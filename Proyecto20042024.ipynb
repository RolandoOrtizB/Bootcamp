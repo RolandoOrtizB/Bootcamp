{
  "nbformat": 4,
  "nbformat_minor": 0,
  "metadata": {
    "colab": {
      "provenance": [],
      "authorship_tag": "ABX9TyNMJ39d75v0VKNt6L7ttPVp",
      "include_colab_link": true
    },
    "kernelspec": {
      "name": "python3",
      "display_name": "Python 3"
    },
    "language_info": {
      "name": "python"
    }
  },
  "cells": [
    {
      "cell_type": "markdown",
      "metadata": {
        "id": "view-in-github",
        "colab_type": "text"
      },
      "source": [
        "<a href=\"https://colab.research.google.com/github/RolandoOrtizB/Bootcamp/blob/main/Proyecto20042024.ipynb\" target=\"_parent\"><img src=\"https://colab.research.google.com/assets/colab-badge.svg\" alt=\"Open In Colab\"/></a>"
      ]
    },
    {
      "cell_type": "code",
      "execution_count": null,
      "metadata": {
        "id": "6yREF7tEu2pB"
      },
      "outputs": [],
      "source": [
        "import pandas as pd\n",
        "import matplotlib.pyplot as plt\n",
        "import seaborn as sns\n",
        "\n"
      ]
    },
    {
      "cell_type": "code",
      "source": [
        "ruta ='/ventas-por-factura.csv'\n",
        "df = pd.read_csv(ruta)\n"
      ],
      "metadata": {
        "id": "OzlJDDKmw9Gx"
      },
      "execution_count": null,
      "outputs": []
    },
    {
      "cell_type": "code",
      "source": [
        "print(data.shape)"
      ],
      "metadata": {
        "colab": {
          "base_uri": "https://localhost:8080/"
        },
        "id": "OGn3e8ecyGw5",
        "outputId": "f52ae79e-e77e-4969-be0f-f8b8e06b4787"
      },
      "execution_count": null,
      "outputs": [
        {
          "output_type": "stream",
          "name": "stdout",
          "text": [
            "(22221, 6)\n"
          ]
        }
      ]
    },
    {
      "cell_type": "code",
      "source": [
        "data.head()"
      ],
      "metadata": {
        "colab": {
          "base_uri": "https://localhost:8080/",
          "height": 206
        },
        "id": "rizrVwaZylIa",
        "outputId": "10c48a6e-da13-4461-ce0f-50da817be4ad"
      },
      "execution_count": null,
      "outputs": [
        {
          "output_type": "execute_result",
          "data": {
            "text/plain": [
              "  N° de factura     Fecha de factura  ID Cliente            País  Cantidad  \\\n",
              "0        548370   3/30/2021 16:14:00     15528.0  United Kingdom       123   \n",
              "1        575767  11/11/2021 11:11:00     17348.0  United Kingdom       163   \n",
              "2       C570727  10/12/2021 11:32:00     12471.0         Germany        -1   \n",
              "3        549106    4/6/2021 12:08:00     17045.0  United Kingdom         1   \n",
              "4        573112  10/27/2021 15:33:00     16416.0  United Kingdom       357   \n",
              "\n",
              "    Monto  \n",
              "0  229,33  \n",
              "1  209,73  \n",
              "2   -1,45  \n",
              "3   39,95  \n",
              "4  344,83  "
            ],
            "text/html": [
              "\n",
              "  <div id=\"df-72f79310-d233-42cc-bfb0-f3fd7dcee093\" class=\"colab-df-container\">\n",
              "    <div>\n",
              "<style scoped>\n",
              "    .dataframe tbody tr th:only-of-type {\n",
              "        vertical-align: middle;\n",
              "    }\n",
              "\n",
              "    .dataframe tbody tr th {\n",
              "        vertical-align: top;\n",
              "    }\n",
              "\n",
              "    .dataframe thead th {\n",
              "        text-align: right;\n",
              "    }\n",
              "</style>\n",
              "<table border=\"1\" class=\"dataframe\">\n",
              "  <thead>\n",
              "    <tr style=\"text-align: right;\">\n",
              "      <th></th>\n",
              "      <th>N° de factura</th>\n",
              "      <th>Fecha de factura</th>\n",
              "      <th>ID Cliente</th>\n",
              "      <th>País</th>\n",
              "      <th>Cantidad</th>\n",
              "      <th>Monto</th>\n",
              "    </tr>\n",
              "  </thead>\n",
              "  <tbody>\n",
              "    <tr>\n",
              "      <th>0</th>\n",
              "      <td>548370</td>\n",
              "      <td>3/30/2021 16:14:00</td>\n",
              "      <td>15528.0</td>\n",
              "      <td>United Kingdom</td>\n",
              "      <td>123</td>\n",
              "      <td>229,33</td>\n",
              "    </tr>\n",
              "    <tr>\n",
              "      <th>1</th>\n",
              "      <td>575767</td>\n",
              "      <td>11/11/2021 11:11:00</td>\n",
              "      <td>17348.0</td>\n",
              "      <td>United Kingdom</td>\n",
              "      <td>163</td>\n",
              "      <td>209,73</td>\n",
              "    </tr>\n",
              "    <tr>\n",
              "      <th>2</th>\n",
              "      <td>C570727</td>\n",
              "      <td>10/12/2021 11:32:00</td>\n",
              "      <td>12471.0</td>\n",
              "      <td>Germany</td>\n",
              "      <td>-1</td>\n",
              "      <td>-1,45</td>\n",
              "    </tr>\n",
              "    <tr>\n",
              "      <th>3</th>\n",
              "      <td>549106</td>\n",
              "      <td>4/6/2021 12:08:00</td>\n",
              "      <td>17045.0</td>\n",
              "      <td>United Kingdom</td>\n",
              "      <td>1</td>\n",
              "      <td>39,95</td>\n",
              "    </tr>\n",
              "    <tr>\n",
              "      <th>4</th>\n",
              "      <td>573112</td>\n",
              "      <td>10/27/2021 15:33:00</td>\n",
              "      <td>16416.0</td>\n",
              "      <td>United Kingdom</td>\n",
              "      <td>357</td>\n",
              "      <td>344,83</td>\n",
              "    </tr>\n",
              "  </tbody>\n",
              "</table>\n",
              "</div>\n",
              "    <div class=\"colab-df-buttons\">\n",
              "\n",
              "  <div class=\"colab-df-container\">\n",
              "    <button class=\"colab-df-convert\" onclick=\"convertToInteractive('df-72f79310-d233-42cc-bfb0-f3fd7dcee093')\"\n",
              "            title=\"Convert this dataframe to an interactive table.\"\n",
              "            style=\"display:none;\">\n",
              "\n",
              "  <svg xmlns=\"http://www.w3.org/2000/svg\" height=\"24px\" viewBox=\"0 -960 960 960\">\n",
              "    <path d=\"M120-120v-720h720v720H120Zm60-500h600v-160H180v160Zm220 220h160v-160H400v160Zm0 220h160v-160H400v160ZM180-400h160v-160H180v160Zm440 0h160v-160H620v160ZM180-180h160v-160H180v160Zm440 0h160v-160H620v160Z\"/>\n",
              "  </svg>\n",
              "    </button>\n",
              "\n",
              "  <style>\n",
              "    .colab-df-container {\n",
              "      display:flex;\n",
              "      gap: 12px;\n",
              "    }\n",
              "\n",
              "    .colab-df-convert {\n",
              "      background-color: #E8F0FE;\n",
              "      border: none;\n",
              "      border-radius: 50%;\n",
              "      cursor: pointer;\n",
              "      display: none;\n",
              "      fill: #1967D2;\n",
              "      height: 32px;\n",
              "      padding: 0 0 0 0;\n",
              "      width: 32px;\n",
              "    }\n",
              "\n",
              "    .colab-df-convert:hover {\n",
              "      background-color: #E2EBFA;\n",
              "      box-shadow: 0px 1px 2px rgba(60, 64, 67, 0.3), 0px 1px 3px 1px rgba(60, 64, 67, 0.15);\n",
              "      fill: #174EA6;\n",
              "    }\n",
              "\n",
              "    .colab-df-buttons div {\n",
              "      margin-bottom: 4px;\n",
              "    }\n",
              "\n",
              "    [theme=dark] .colab-df-convert {\n",
              "      background-color: #3B4455;\n",
              "      fill: #D2E3FC;\n",
              "    }\n",
              "\n",
              "    [theme=dark] .colab-df-convert:hover {\n",
              "      background-color: #434B5C;\n",
              "      box-shadow: 0px 1px 3px 1px rgba(0, 0, 0, 0.15);\n",
              "      filter: drop-shadow(0px 1px 2px rgba(0, 0, 0, 0.3));\n",
              "      fill: #FFFFFF;\n",
              "    }\n",
              "  </style>\n",
              "\n",
              "    <script>\n",
              "      const buttonEl =\n",
              "        document.querySelector('#df-72f79310-d233-42cc-bfb0-f3fd7dcee093 button.colab-df-convert');\n",
              "      buttonEl.style.display =\n",
              "        google.colab.kernel.accessAllowed ? 'block' : 'none';\n",
              "\n",
              "      async function convertToInteractive(key) {\n",
              "        const element = document.querySelector('#df-72f79310-d233-42cc-bfb0-f3fd7dcee093');\n",
              "        const dataTable =\n",
              "          await google.colab.kernel.invokeFunction('convertToInteractive',\n",
              "                                                    [key], {});\n",
              "        if (!dataTable) return;\n",
              "\n",
              "        const docLinkHtml = 'Like what you see? Visit the ' +\n",
              "          '<a target=\"_blank\" href=https://colab.research.google.com/notebooks/data_table.ipynb>data table notebook</a>'\n",
              "          + ' to learn more about interactive tables.';\n",
              "        element.innerHTML = '';\n",
              "        dataTable['output_type'] = 'display_data';\n",
              "        await google.colab.output.renderOutput(dataTable, element);\n",
              "        const docLink = document.createElement('div');\n",
              "        docLink.innerHTML = docLinkHtml;\n",
              "        element.appendChild(docLink);\n",
              "      }\n",
              "    </script>\n",
              "  </div>\n",
              "\n",
              "\n",
              "<div id=\"df-015f3267-d6ae-403c-a96c-836673a5298c\">\n",
              "  <button class=\"colab-df-quickchart\" onclick=\"quickchart('df-015f3267-d6ae-403c-a96c-836673a5298c')\"\n",
              "            title=\"Suggest charts\"\n",
              "            style=\"display:none;\">\n",
              "\n",
              "<svg xmlns=\"http://www.w3.org/2000/svg\" height=\"24px\"viewBox=\"0 0 24 24\"\n",
              "     width=\"24px\">\n",
              "    <g>\n",
              "        <path d=\"M19 3H5c-1.1 0-2 .9-2 2v14c0 1.1.9 2 2 2h14c1.1 0 2-.9 2-2V5c0-1.1-.9-2-2-2zM9 17H7v-7h2v7zm4 0h-2V7h2v10zm4 0h-2v-4h2v4z\"/>\n",
              "    </g>\n",
              "</svg>\n",
              "  </button>\n",
              "\n",
              "<style>\n",
              "  .colab-df-quickchart {\n",
              "      --bg-color: #E8F0FE;\n",
              "      --fill-color: #1967D2;\n",
              "      --hover-bg-color: #E2EBFA;\n",
              "      --hover-fill-color: #174EA6;\n",
              "      --disabled-fill-color: #AAA;\n",
              "      --disabled-bg-color: #DDD;\n",
              "  }\n",
              "\n",
              "  [theme=dark] .colab-df-quickchart {\n",
              "      --bg-color: #3B4455;\n",
              "      --fill-color: #D2E3FC;\n",
              "      --hover-bg-color: #434B5C;\n",
              "      --hover-fill-color: #FFFFFF;\n",
              "      --disabled-bg-color: #3B4455;\n",
              "      --disabled-fill-color: #666;\n",
              "  }\n",
              "\n",
              "  .colab-df-quickchart {\n",
              "    background-color: var(--bg-color);\n",
              "    border: none;\n",
              "    border-radius: 50%;\n",
              "    cursor: pointer;\n",
              "    display: none;\n",
              "    fill: var(--fill-color);\n",
              "    height: 32px;\n",
              "    padding: 0;\n",
              "    width: 32px;\n",
              "  }\n",
              "\n",
              "  .colab-df-quickchart:hover {\n",
              "    background-color: var(--hover-bg-color);\n",
              "    box-shadow: 0 1px 2px rgba(60, 64, 67, 0.3), 0 1px 3px 1px rgba(60, 64, 67, 0.15);\n",
              "    fill: var(--button-hover-fill-color);\n",
              "  }\n",
              "\n",
              "  .colab-df-quickchart-complete:disabled,\n",
              "  .colab-df-quickchart-complete:disabled:hover {\n",
              "    background-color: var(--disabled-bg-color);\n",
              "    fill: var(--disabled-fill-color);\n",
              "    box-shadow: none;\n",
              "  }\n",
              "\n",
              "  .colab-df-spinner {\n",
              "    border: 2px solid var(--fill-color);\n",
              "    border-color: transparent;\n",
              "    border-bottom-color: var(--fill-color);\n",
              "    animation:\n",
              "      spin 1s steps(1) infinite;\n",
              "  }\n",
              "\n",
              "  @keyframes spin {\n",
              "    0% {\n",
              "      border-color: transparent;\n",
              "      border-bottom-color: var(--fill-color);\n",
              "      border-left-color: var(--fill-color);\n",
              "    }\n",
              "    20% {\n",
              "      border-color: transparent;\n",
              "      border-left-color: var(--fill-color);\n",
              "      border-top-color: var(--fill-color);\n",
              "    }\n",
              "    30% {\n",
              "      border-color: transparent;\n",
              "      border-left-color: var(--fill-color);\n",
              "      border-top-color: var(--fill-color);\n",
              "      border-right-color: var(--fill-color);\n",
              "    }\n",
              "    40% {\n",
              "      border-color: transparent;\n",
              "      border-right-color: var(--fill-color);\n",
              "      border-top-color: var(--fill-color);\n",
              "    }\n",
              "    60% {\n",
              "      border-color: transparent;\n",
              "      border-right-color: var(--fill-color);\n",
              "    }\n",
              "    80% {\n",
              "      border-color: transparent;\n",
              "      border-right-color: var(--fill-color);\n",
              "      border-bottom-color: var(--fill-color);\n",
              "    }\n",
              "    90% {\n",
              "      border-color: transparent;\n",
              "      border-bottom-color: var(--fill-color);\n",
              "    }\n",
              "  }\n",
              "</style>\n",
              "\n",
              "  <script>\n",
              "    async function quickchart(key) {\n",
              "      const quickchartButtonEl =\n",
              "        document.querySelector('#' + key + ' button');\n",
              "      quickchartButtonEl.disabled = true;  // To prevent multiple clicks.\n",
              "      quickchartButtonEl.classList.add('colab-df-spinner');\n",
              "      try {\n",
              "        const charts = await google.colab.kernel.invokeFunction(\n",
              "            'suggestCharts', [key], {});\n",
              "      } catch (error) {\n",
              "        console.error('Error during call to suggestCharts:', error);\n",
              "      }\n",
              "      quickchartButtonEl.classList.remove('colab-df-spinner');\n",
              "      quickchartButtonEl.classList.add('colab-df-quickchart-complete');\n",
              "    }\n",
              "    (() => {\n",
              "      let quickchartButtonEl =\n",
              "        document.querySelector('#df-015f3267-d6ae-403c-a96c-836673a5298c button');\n",
              "      quickchartButtonEl.style.display =\n",
              "        google.colab.kernel.accessAllowed ? 'block' : 'none';\n",
              "    })();\n",
              "  </script>\n",
              "</div>\n",
              "\n",
              "    </div>\n",
              "  </div>\n"
            ],
            "application/vnd.google.colaboratory.intrinsic+json": {
              "type": "dataframe",
              "variable_name": "data",
              "summary": "{\n  \"name\": \"data\",\n  \"rows\": 22221,\n  \"fields\": [\n    {\n      \"column\": \"N\\u00b0 de factura\",\n      \"properties\": {\n        \"dtype\": \"string\",\n        \"num_unique_values\": 22190,\n        \"samples\": [\n          \"561711\",\n          \"575612\",\n          \"C541234\"\n        ],\n        \"semantic_type\": \"\",\n        \"description\": \"\"\n      }\n    },\n    {\n      \"column\": \"Fecha de factura\",\n      \"properties\": {\n        \"dtype\": \"object\",\n        \"num_unique_values\": 20460,\n        \"samples\": [\n          \"5/5/2021 10:20:00\",\n          \"11/18/2021 8:21:00\",\n          \"2/21/2021 12:38:00\"\n        ],\n        \"semantic_type\": \"\",\n        \"description\": \"\"\n      }\n    },\n    {\n      \"column\": \"ID Cliente\",\n      \"properties\": {\n        \"dtype\": \"number\",\n        \"std\": 1732.9870976252018,\n        \"min\": 12346.0,\n        \"max\": 18287.0,\n        \"num_unique_values\": 4372,\n        \"samples\": [\n          17154.0,\n          15869.0,\n          13078.0\n        ],\n        \"semantic_type\": \"\",\n        \"description\": \"\"\n      }\n    },\n    {\n      \"column\": \"Pa\\u00eds\",\n      \"properties\": {\n        \"dtype\": \"category\",\n        \"num_unique_values\": 37,\n        \"samples\": [\n          \"United Arab Emirates\",\n          \"Finland\",\n          \"Sweden\"\n        ],\n        \"semantic_type\": \"\",\n        \"description\": \"\"\n      }\n    },\n    {\n      \"column\": \"Cantidad\",\n      \"properties\": {\n        \"dtype\": \"number\",\n        \"std\": 1169,\n        \"min\": -80995,\n        \"max\": 80995,\n        \"num_unique_values\": 1593,\n        \"samples\": [\n          3843,\n          -600,\n          -196\n        ],\n        \"semantic_type\": \"\",\n        \"description\": \"\"\n      }\n    },\n    {\n      \"column\": \"Monto\",\n      \"properties\": {\n        \"dtype\": \"string\",\n        \"num_unique_values\": 16287,\n        \"samples\": [\n          \"308,18\",\n          \"163,96\",\n          \"314,03\"\n        ],\n        \"semantic_type\": \"\",\n        \"description\": \"\"\n      }\n    }\n  ]\n}"
            }
          },
          "metadata": {},
          "execution_count": 100
        }
      ]
    },
    {
      "cell_type": "code",
      "source": [
        "#validar si los espacios son categorica y numerica, se realiza validacion para tipo de la infomacion con data.info()  int64 numerica, object categorica, float64 flotante\n",
        "data.info()"
      ],
      "metadata": {
        "colab": {
          "base_uri": "https://localhost:8080/"
        },
        "id": "Y9UBSPkNzTLb",
        "outputId": "82884f9f-6a81-4ded-83a1-5fc34b6c3adb"
      },
      "execution_count": null,
      "outputs": [
        {
          "output_type": "stream",
          "name": "stdout",
          "text": [
            "<class 'pandas.core.frame.DataFrame'>\n",
            "Index: 22221 entries, 0 to 25951\n",
            "Data columns (total 6 columns):\n",
            " #   Column            Non-Null Count  Dtype  \n",
            "---  ------            --------------  -----  \n",
            " 0   N° de factura     22221 non-null  object \n",
            " 1   Fecha de factura  22221 non-null  object \n",
            " 2   ID Cliente        22221 non-null  float64\n",
            " 3   País              22221 non-null  object \n",
            " 4   Cantidad          22221 non-null  int64  \n",
            " 5   Monto             22221 non-null  object \n",
            "dtypes: float64(1), int64(1), object(4)\n",
            "memory usage: 1.7+ MB\n"
          ]
        }
      ]
    },
    {
      "cell_type": "markdown",
      "source": [
        "validar:\n",
        "1. datos faltantes celdas en blanco\n",
        "2. columnas irrelevantes.\n",
        "3. registros repetidos, eliminar filas repetidas\n",
        "4. valores extremos. (outliers) ejemplo edad 200 años\n",
        "5. errores tipograficos unificar tipogramia todos M o m\n",
        "\n",
        "\n"
      ],
      "metadata": {
        "id": "4cGfMMze1GbN"
      }
    },
    {
      "cell_type": "code",
      "source": [
        "# Eliminar duplicados\n",
        "df = df.drop_duplicates()\n",
        "\n",
        "# Tratar valores nulos (dependiendo de las columnas, esto puede variar)\n",
        "df = df.dropna()\n",
        "\n",
        "# Convertir fechas si hay una columna de fecha\n",
        "if 'fecha_venta' in df.columns:\n",
        "    df['fecha_venta'] = pd.to_datetime(df['fecha_venta'])\n",
        "\n",
        "df.info()  # Para verificar los tipos de datos"
      ],
      "metadata": {
        "colab": {
          "base_uri": "https://localhost:8080/"
        },
        "id": "RD8Pl01O0Tb7",
        "outputId": "f804fe24-078b-468a-fe53-59cf523b5cf6"
      },
      "execution_count": null,
      "outputs": [
        {
          "output_type": "stream",
          "name": "stdout",
          "text": [
            "<class 'pandas.core.frame.DataFrame'>\n",
            "Index: 22221 entries, 0 to 25951\n",
            "Data columns (total 6 columns):\n",
            " #   Column            Non-Null Count  Dtype  \n",
            "---  ------            --------------  -----  \n",
            " 0   N° de factura     22221 non-null  object \n",
            " 1   Fecha de factura  22221 non-null  object \n",
            " 2   ID Cliente        22221 non-null  float64\n",
            " 3   País              22221 non-null  object \n",
            " 4   Cantidad          22221 non-null  int64  \n",
            " 5   Monto             22221 non-null  object \n",
            "dtypes: float64(1), int64(1), object(4)\n",
            "memory usage: 1.2+ MB\n"
          ]
        }
      ]
    },
    {
      "cell_type": "markdown",
      "source": [
        "lo anterior, se extrae informacion de los niveles de cada columna categorica, para mirar si son informaciones unicas"
      ],
      "metadata": {
        "id": "ooUcJXUc6GCn"
      }
    },
    {
      "cell_type": "code",
      "source": [
        "data.describe() #nos deja ver todas las columnas nomericas\n"
      ],
      "metadata": {
        "colab": {
          "base_uri": "https://localhost:8080/",
          "height": 300
        },
        "id": "1vk8f6wA7FBj",
        "outputId": "2e21f20d-393c-4fd4-912b-e95275197434"
      },
      "execution_count": null,
      "outputs": [
        {
          "output_type": "execute_result",
          "data": {
            "text/plain": [
              "         ID Cliente      Cantidad\n",
              "count  22221.000000  22221.000000\n",
              "mean   15238.398317    220.822105\n",
              "std     1732.987098   1169.306198\n",
              "min    12346.000000 -80995.000000\n",
              "25%    13755.000000     30.000000\n",
              "50%    15136.000000    120.000000\n",
              "75%    16746.000000    254.000000\n",
              "max    18287.000000  80995.000000"
            ],
            "text/html": [
              "\n",
              "  <div id=\"df-157bd960-7fd9-4a0b-847d-cbe2da0d2f03\" class=\"colab-df-container\">\n",
              "    <div>\n",
              "<style scoped>\n",
              "    .dataframe tbody tr th:only-of-type {\n",
              "        vertical-align: middle;\n",
              "    }\n",
              "\n",
              "    .dataframe tbody tr th {\n",
              "        vertical-align: top;\n",
              "    }\n",
              "\n",
              "    .dataframe thead th {\n",
              "        text-align: right;\n",
              "    }\n",
              "</style>\n",
              "<table border=\"1\" class=\"dataframe\">\n",
              "  <thead>\n",
              "    <tr style=\"text-align: right;\">\n",
              "      <th></th>\n",
              "      <th>ID Cliente</th>\n",
              "      <th>Cantidad</th>\n",
              "    </tr>\n",
              "  </thead>\n",
              "  <tbody>\n",
              "    <tr>\n",
              "      <th>count</th>\n",
              "      <td>22221.000000</td>\n",
              "      <td>22221.000000</td>\n",
              "    </tr>\n",
              "    <tr>\n",
              "      <th>mean</th>\n",
              "      <td>15238.398317</td>\n",
              "      <td>220.822105</td>\n",
              "    </tr>\n",
              "    <tr>\n",
              "      <th>std</th>\n",
              "      <td>1732.987098</td>\n",
              "      <td>1169.306198</td>\n",
              "    </tr>\n",
              "    <tr>\n",
              "      <th>min</th>\n",
              "      <td>12346.000000</td>\n",
              "      <td>-80995.000000</td>\n",
              "    </tr>\n",
              "    <tr>\n",
              "      <th>25%</th>\n",
              "      <td>13755.000000</td>\n",
              "      <td>30.000000</td>\n",
              "    </tr>\n",
              "    <tr>\n",
              "      <th>50%</th>\n",
              "      <td>15136.000000</td>\n",
              "      <td>120.000000</td>\n",
              "    </tr>\n",
              "    <tr>\n",
              "      <th>75%</th>\n",
              "      <td>16746.000000</td>\n",
              "      <td>254.000000</td>\n",
              "    </tr>\n",
              "    <tr>\n",
              "      <th>max</th>\n",
              "      <td>18287.000000</td>\n",
              "      <td>80995.000000</td>\n",
              "    </tr>\n",
              "  </tbody>\n",
              "</table>\n",
              "</div>\n",
              "    <div class=\"colab-df-buttons\">\n",
              "\n",
              "  <div class=\"colab-df-container\">\n",
              "    <button class=\"colab-df-convert\" onclick=\"convertToInteractive('df-157bd960-7fd9-4a0b-847d-cbe2da0d2f03')\"\n",
              "            title=\"Convert this dataframe to an interactive table.\"\n",
              "            style=\"display:none;\">\n",
              "\n",
              "  <svg xmlns=\"http://www.w3.org/2000/svg\" height=\"24px\" viewBox=\"0 -960 960 960\">\n",
              "    <path d=\"M120-120v-720h720v720H120Zm60-500h600v-160H180v160Zm220 220h160v-160H400v160Zm0 220h160v-160H400v160ZM180-400h160v-160H180v160Zm440 0h160v-160H620v160ZM180-180h160v-160H180v160Zm440 0h160v-160H620v160Z\"/>\n",
              "  </svg>\n",
              "    </button>\n",
              "\n",
              "  <style>\n",
              "    .colab-df-container {\n",
              "      display:flex;\n",
              "      gap: 12px;\n",
              "    }\n",
              "\n",
              "    .colab-df-convert {\n",
              "      background-color: #E8F0FE;\n",
              "      border: none;\n",
              "      border-radius: 50%;\n",
              "      cursor: pointer;\n",
              "      display: none;\n",
              "      fill: #1967D2;\n",
              "      height: 32px;\n",
              "      padding: 0 0 0 0;\n",
              "      width: 32px;\n",
              "    }\n",
              "\n",
              "    .colab-df-convert:hover {\n",
              "      background-color: #E2EBFA;\n",
              "      box-shadow: 0px 1px 2px rgba(60, 64, 67, 0.3), 0px 1px 3px 1px rgba(60, 64, 67, 0.15);\n",
              "      fill: #174EA6;\n",
              "    }\n",
              "\n",
              "    .colab-df-buttons div {\n",
              "      margin-bottom: 4px;\n",
              "    }\n",
              "\n",
              "    [theme=dark] .colab-df-convert {\n",
              "      background-color: #3B4455;\n",
              "      fill: #D2E3FC;\n",
              "    }\n",
              "\n",
              "    [theme=dark] .colab-df-convert:hover {\n",
              "      background-color: #434B5C;\n",
              "      box-shadow: 0px 1px 3px 1px rgba(0, 0, 0, 0.15);\n",
              "      filter: drop-shadow(0px 1px 2px rgba(0, 0, 0, 0.3));\n",
              "      fill: #FFFFFF;\n",
              "    }\n",
              "  </style>\n",
              "\n",
              "    <script>\n",
              "      const buttonEl =\n",
              "        document.querySelector('#df-157bd960-7fd9-4a0b-847d-cbe2da0d2f03 button.colab-df-convert');\n",
              "      buttonEl.style.display =\n",
              "        google.colab.kernel.accessAllowed ? 'block' : 'none';\n",
              "\n",
              "      async function convertToInteractive(key) {\n",
              "        const element = document.querySelector('#df-157bd960-7fd9-4a0b-847d-cbe2da0d2f03');\n",
              "        const dataTable =\n",
              "          await google.colab.kernel.invokeFunction('convertToInteractive',\n",
              "                                                    [key], {});\n",
              "        if (!dataTable) return;\n",
              "\n",
              "        const docLinkHtml = 'Like what you see? Visit the ' +\n",
              "          '<a target=\"_blank\" href=https://colab.research.google.com/notebooks/data_table.ipynb>data table notebook</a>'\n",
              "          + ' to learn more about interactive tables.';\n",
              "        element.innerHTML = '';\n",
              "        dataTable['output_type'] = 'display_data';\n",
              "        await google.colab.output.renderOutput(dataTable, element);\n",
              "        const docLink = document.createElement('div');\n",
              "        docLink.innerHTML = docLinkHtml;\n",
              "        element.appendChild(docLink);\n",
              "      }\n",
              "    </script>\n",
              "  </div>\n",
              "\n",
              "\n",
              "<div id=\"df-4e854818-f85b-41cd-add6-fc76572169e5\">\n",
              "  <button class=\"colab-df-quickchart\" onclick=\"quickchart('df-4e854818-f85b-41cd-add6-fc76572169e5')\"\n",
              "            title=\"Suggest charts\"\n",
              "            style=\"display:none;\">\n",
              "\n",
              "<svg xmlns=\"http://www.w3.org/2000/svg\" height=\"24px\"viewBox=\"0 0 24 24\"\n",
              "     width=\"24px\">\n",
              "    <g>\n",
              "        <path d=\"M19 3H5c-1.1 0-2 .9-2 2v14c0 1.1.9 2 2 2h14c1.1 0 2-.9 2-2V5c0-1.1-.9-2-2-2zM9 17H7v-7h2v7zm4 0h-2V7h2v10zm4 0h-2v-4h2v4z\"/>\n",
              "    </g>\n",
              "</svg>\n",
              "  </button>\n",
              "\n",
              "<style>\n",
              "  .colab-df-quickchart {\n",
              "      --bg-color: #E8F0FE;\n",
              "      --fill-color: #1967D2;\n",
              "      --hover-bg-color: #E2EBFA;\n",
              "      --hover-fill-color: #174EA6;\n",
              "      --disabled-fill-color: #AAA;\n",
              "      --disabled-bg-color: #DDD;\n",
              "  }\n",
              "\n",
              "  [theme=dark] .colab-df-quickchart {\n",
              "      --bg-color: #3B4455;\n",
              "      --fill-color: #D2E3FC;\n",
              "      --hover-bg-color: #434B5C;\n",
              "      --hover-fill-color: #FFFFFF;\n",
              "      --disabled-bg-color: #3B4455;\n",
              "      --disabled-fill-color: #666;\n",
              "  }\n",
              "\n",
              "  .colab-df-quickchart {\n",
              "    background-color: var(--bg-color);\n",
              "    border: none;\n",
              "    border-radius: 50%;\n",
              "    cursor: pointer;\n",
              "    display: none;\n",
              "    fill: var(--fill-color);\n",
              "    height: 32px;\n",
              "    padding: 0;\n",
              "    width: 32px;\n",
              "  }\n",
              "\n",
              "  .colab-df-quickchart:hover {\n",
              "    background-color: var(--hover-bg-color);\n",
              "    box-shadow: 0 1px 2px rgba(60, 64, 67, 0.3), 0 1px 3px 1px rgba(60, 64, 67, 0.15);\n",
              "    fill: var(--button-hover-fill-color);\n",
              "  }\n",
              "\n",
              "  .colab-df-quickchart-complete:disabled,\n",
              "  .colab-df-quickchart-complete:disabled:hover {\n",
              "    background-color: var(--disabled-bg-color);\n",
              "    fill: var(--disabled-fill-color);\n",
              "    box-shadow: none;\n",
              "  }\n",
              "\n",
              "  .colab-df-spinner {\n",
              "    border: 2px solid var(--fill-color);\n",
              "    border-color: transparent;\n",
              "    border-bottom-color: var(--fill-color);\n",
              "    animation:\n",
              "      spin 1s steps(1) infinite;\n",
              "  }\n",
              "\n",
              "  @keyframes spin {\n",
              "    0% {\n",
              "      border-color: transparent;\n",
              "      border-bottom-color: var(--fill-color);\n",
              "      border-left-color: var(--fill-color);\n",
              "    }\n",
              "    20% {\n",
              "      border-color: transparent;\n",
              "      border-left-color: var(--fill-color);\n",
              "      border-top-color: var(--fill-color);\n",
              "    }\n",
              "    30% {\n",
              "      border-color: transparent;\n",
              "      border-left-color: var(--fill-color);\n",
              "      border-top-color: var(--fill-color);\n",
              "      border-right-color: var(--fill-color);\n",
              "    }\n",
              "    40% {\n",
              "      border-color: transparent;\n",
              "      border-right-color: var(--fill-color);\n",
              "      border-top-color: var(--fill-color);\n",
              "    }\n",
              "    60% {\n",
              "      border-color: transparent;\n",
              "      border-right-color: var(--fill-color);\n",
              "    }\n",
              "    80% {\n",
              "      border-color: transparent;\n",
              "      border-right-color: var(--fill-color);\n",
              "      border-bottom-color: var(--fill-color);\n",
              "    }\n",
              "    90% {\n",
              "      border-color: transparent;\n",
              "      border-bottom-color: var(--fill-color);\n",
              "    }\n",
              "  }\n",
              "</style>\n",
              "\n",
              "  <script>\n",
              "    async function quickchart(key) {\n",
              "      const quickchartButtonEl =\n",
              "        document.querySelector('#' + key + ' button');\n",
              "      quickchartButtonEl.disabled = true;  // To prevent multiple clicks.\n",
              "      quickchartButtonEl.classList.add('colab-df-spinner');\n",
              "      try {\n",
              "        const charts = await google.colab.kernel.invokeFunction(\n",
              "            'suggestCharts', [key], {});\n",
              "      } catch (error) {\n",
              "        console.error('Error during call to suggestCharts:', error);\n",
              "      }\n",
              "      quickchartButtonEl.classList.remove('colab-df-spinner');\n",
              "      quickchartButtonEl.classList.add('colab-df-quickchart-complete');\n",
              "    }\n",
              "    (() => {\n",
              "      let quickchartButtonEl =\n",
              "        document.querySelector('#df-4e854818-f85b-41cd-add6-fc76572169e5 button');\n",
              "      quickchartButtonEl.style.display =\n",
              "        google.colab.kernel.accessAllowed ? 'block' : 'none';\n",
              "    })();\n",
              "  </script>\n",
              "</div>\n",
              "\n",
              "    </div>\n",
              "  </div>\n"
            ],
            "application/vnd.google.colaboratory.intrinsic+json": {
              "type": "dataframe",
              "summary": "{\n  \"name\": \"data\",\n  \"rows\": 8,\n  \"fields\": [\n    {\n      \"column\": \"ID Cliente\",\n      \"properties\": {\n        \"dtype\": \"number\",\n        \"std\": 5953.446598921896,\n        \"min\": 1732.9870976252018,\n        \"max\": 22221.0,\n        \"num_unique_values\": 8,\n        \"samples\": [\n          15238.398316907429,\n          15136.0,\n          22221.0\n        ],\n        \"semantic_type\": \"\",\n        \"description\": \"\"\n      }\n    },\n    {\n      \"column\": \"Cantidad\",\n      \"properties\": {\n        \"dtype\": \"number\",\n        \"std\": 43986.293235114936,\n        \"min\": -80995.0,\n        \"max\": 80995.0,\n        \"num_unique_values\": 8,\n        \"samples\": [\n          220.82210521578688,\n          120.0,\n          22221.0\n        ],\n        \"semantic_type\": \"\",\n        \"description\": \"\"\n      }\n    }\n  ]\n}"
            }
          },
          "metadata": {},
          "execution_count": 118
        }
      ]
    },
    {
      "cell_type": "code",
      "source": [
        "print(f'Tamaño del set antes de eliminar las filas repetidas: {data.shape}')\n",
        "data.drop_duplicates(inplace=True)  # elimina las filas duplicadas función de pandas\n",
        "print(f'Tamaño del set después de eliminar las filas repetidas: {data.shape}')"
      ],
      "metadata": {
        "colab": {
          "base_uri": "https://localhost:8080/"
        },
        "id": "frP6__Gd8j0G",
        "outputId": "aee3d1b2-9ab4-42b0-c955-f288aeb9f4e1"
      },
      "execution_count": null,
      "outputs": [
        {
          "output_type": "stream",
          "name": "stdout",
          "text": [
            "Tamaño del set antes de eliminar las filas repetidas: (22221, 6)\n",
            "Tamaño del set después de eliminar las filas repetidas: (22221, 6)\n"
          ]
        }
      ]
    },
    {
      "cell_type": "code",
      "source": [
        "df.info()  # Para verificar los tipos de datos"
      ],
      "metadata": {
        "colab": {
          "base_uri": "https://localhost:8080/"
        },
        "id": "ITGX7ljC66MH",
        "outputId": "dc3256d4-a106-4eef-d274-9e654b77af7e"
      },
      "execution_count": null,
      "outputs": [
        {
          "output_type": "stream",
          "name": "stdout",
          "text": [
            "<class 'pandas.core.frame.DataFrame'>\n",
            "Index: 22221 entries, 0 to 25951\n",
            "Data columns (total 6 columns):\n",
            " #   Column            Non-Null Count  Dtype  \n",
            "---  ------            --------------  -----  \n",
            " 0   N° de factura     22221 non-null  object \n",
            " 1   Fecha de factura  22221 non-null  object \n",
            " 2   ID Cliente        22221 non-null  float64\n",
            " 3   País              22221 non-null  object \n",
            " 4   Cantidad          22221 non-null  int64  \n",
            " 5   Monto             22221 non-null  object \n",
            "dtypes: float64(1), int64(1), object(4)\n",
            "memory usage: 1.2+ MB\n"
          ]
        }
      ]
    },
    {
      "cell_type": "markdown",
      "source": [
        "Análisis exploratorio de datos"
      ],
      "metadata": {
        "id": "TZn96haL9hdl"
      }
    },
    {
      "cell_type": "code",
      "source": [
        "import matplotlib.pyplot as plt\n",
        "import seaborn as sns\n",
        "\n",
        "# Si hay una columna de fecha, crear una columna de mes para análisis temporal\n",
        "if 'fecha_venta' in df.columns:\n",
        "    df['mes'] = df['fecha_venta'].dt.to_period('M')\n",
        "\n",
        "# Ventas mensuales\n",
        "if 'mes' in df.columns and 'cantidad' in df.columns:\n",
        "    ventas_mensuales = df.groupby('mes')['cantidad'].sum()\n",
        "    ventas_mensuales.plot(kind='bar')\n",
        "    plt.title('Ventas Mensuales')\n",
        "    plt.xlabel('Mes')\n",
        "    plt.ylabel('Cantidad Vendida')\n",
        "    plt.show()\n",
        "\n",
        "# Productos más vendidos\n",
        "if 'producto_id' in df.columns and 'cantidad' in df.columns:\n",
        "    productos_mas_vendidos = df.groupby('producto_id')['cantidad'].sum().sort_values(ascending=False).head(10)\n",
        "    productos_mas_vendidos.plot(kind='bar')\n",
        "    plt.title('Productos Más Vendidos')\n",
        "    plt.xlabel('ID del Producto')\n",
        "    plt.ylabel('Cantidad Vendida')\n",
        "    plt.show()"
      ],
      "metadata": {
        "id": "4maHDjhT9sC9"
      },
      "execution_count": null,
      "outputs": []
    },
    {
      "cell_type": "markdown",
      "source": [
        "Clustering validamos con clustering a los datos para identificar patrones entre los clientes o productos"
      ],
      "metadata": {
        "id": "usYFTryy93mS"
      }
    },
    {
      "cell_type": "code",
      "source": [
        "from sklearn.cluster import KMeans\n",
        "\n",
        "# Clustering de clientes\n",
        "if 'cliente_id' in df.columns and 'cantidad' in df.columns and 'precio' in df.columns:\n",
        "    clientes = df.groupby('cliente_id').agg({\n",
        "        'cantidad': 'sum',\n",
        "        'precio': 'sum'\n",
        "    }).rename(columns={'cantidad': 'frecuencia_compra', 'precio': 'monto_total'})\n",
        "\n",
        "    # Aplicar K-Means\n",
        "    kmeans = KMeans(n_clusters=3)\n",
        "    clientes['cluster'] = kmeans.fit_predict(clientes[['frecuencia_compra', 'monto_total']])\n",
        "\n",
        "    # Visualizar clústeres\n",
        "    sns.scatterplot(x='frecuencia_compra', y='monto_total', hue='cluster', data=clientes)\n",
        "    plt.title('Clustering de Clientes')\n",
        "    plt.xlabel('Frecuencia de Compra')\n",
        "    plt.ylabel('Monto Total')\n",
        "    plt.show()"
      ],
      "metadata": {
        "id": "l5ngPo3g985v"
      },
      "execution_count": null,
      "outputs": []
    },
    {
      "cell_type": "code",
      "source": [
        "# Eliminar duplicados\n",
        "df = df.drop_duplicates()\n",
        "\n",
        "# Tratar valores nulos\n",
        "df = df.dropna()\n",
        "\n",
        "# Convertir fechas\n",
        "df['Fecha de factura'] = pd.to_datetime(df['Fecha de factura'], format='%m/%d/%Y %H:%M:%S')\n",
        "\n",
        "# Convertir 'Monto' a numérico (eliminando las comas)\n",
        "df['Monto'] = df['Monto'].str.replace(',', '').astype(float)\n",
        "\n",
        "# Verificar los tipos de datos después de la limpieza\n",
        "df.info()"
      ],
      "metadata": {
        "colab": {
          "base_uri": "https://localhost:8080/"
        },
        "id": "lIYx-AbB-C16",
        "outputId": "f74ed64a-e246-41e1-ac47-1300a0f88906"
      },
      "execution_count": null,
      "outputs": [
        {
          "output_type": "stream",
          "name": "stdout",
          "text": [
            "<class 'pandas.core.frame.DataFrame'>\n",
            "Index: 22221 entries, 0 to 25951\n",
            "Data columns (total 6 columns):\n",
            " #   Column            Non-Null Count  Dtype         \n",
            "---  ------            --------------  -----         \n",
            " 0   N° de factura     22221 non-null  object        \n",
            " 1   Fecha de factura  22221 non-null  datetime64[ns]\n",
            " 2   ID Cliente        22221 non-null  float64       \n",
            " 3   País              22221 non-null  object        \n",
            " 4   Cantidad          22221 non-null  int64         \n",
            " 5   Monto             22221 non-null  float64       \n",
            "dtypes: datetime64[ns](1), float64(2), int64(1), object(2)\n",
            "memory usage: 1.2+ MB\n"
          ]
        }
      ]
    },
    {
      "cell_type": "code",
      "source": [
        "import matplotlib.pyplot as plt\n",
        "import seaborn as sns\n",
        "\n",
        "# Crear una columna de mes para análisis temporal\n",
        "df['mes'] = df['Fecha de factura'].dt.to_period('M')\n",
        "\n",
        "# Ventas mensuales\n",
        "ventas_mensuales = df.groupby('mes')['Cantidad'].sum()\n",
        "ventas_mensuales.plot(kind='bar')\n",
        "plt.title('Ventas Mensuales')\n",
        "plt.xlabel('Mes')\n",
        "plt.ylabel('Cantidad Vendida')\n",
        "plt.show()"
      ],
      "metadata": {
        "colab": {
          "base_uri": "https://localhost:8080/",
          "height": 515
        },
        "id": "ScQMZhtE-ksf",
        "outputId": "1f13ccbc-9f9c-427b-9dae-8a01d4101b31"
      },
      "execution_count": null,
      "outputs": [
        {
          "output_type": "display_data",
          "data": {
            "text/plain": [
              "<Figure size 640x480 with 1 Axes>"
            ],
            "image/png": "[encoded data removed]"
          },
          "metadata": {}
        }
      ]
    },
    {
      "cell_type": "code",
      "source": [
        "# Productos más vendidos\n",
        "productos_mas_vendidos = df.groupby('N° de factura')['Cantidad'].sum().sort_values(ascending=False).head(10)\n",
        "productos_mas_vendidos.plot(kind='bar')\n",
        "plt.title('Productos Más Vendidos')\n",
        "plt.xlabel('ID del Producto')\n",
        "plt.ylabel('Cantidad Vendida')\n",
        "plt.show()"
      ],
      "metadata": {
        "colab": {
          "base_uri": "https://localhost:8080/",
          "height": 511
        },
        "id": "jd0d6dQ-_QHQ",
        "outputId": "a20b98ba-6512-4c1b-9262-5cbd1ef25a5c"
      },
      "execution_count": null,
      "outputs": [
        {
          "output_type": "display_data",
          "data": {
            "text/plain": [
              "<Figure size 640x480 with 1 Axes>"
            ],
            "image/png": "[encoded data removed]"
          },
          "metadata": {}
        }
      ]
    },
    {
      "cell_type": "code",
      "source": [
        "import matplotlib.pyplot as plt\n",
        "import seaborn as sns\n",
        "\n",
        "# Crear una columna de mes para análisis temporal\n",
        "df['mes'] = df['Fecha de factura'].dt.to_period('M')\n",
        "\n",
        "# Ventas mensuales\n",
        "ventas_mensuales = df.groupby('mes')['Cantidad'].sum()\n",
        "ventas_mensuales.plot(kind='bar', figsize=(12, 6))\n",
        "plt.title('Ventas Mensuales')\n",
        "plt.xlabel('Mes')\n",
        "plt.ylabel('Cantidad Vendida')\n",
        "plt.xticks(rotation=45)\n",
        "plt.show()"
      ],
      "metadata": {
        "colab": {
          "base_uri": "https://localhost:8080/",
          "height": 601
        },
        "id": "aM0pJtGy-yQ8",
        "outputId": "c017a729-9eec-4cab-c5f3-b0a124c0f2f6"
      },
      "execution_count": null,
      "outputs": [
        {
          "output_type": "display_data",
          "data": {
            "text/plain": [
              "<Figure size 1200x600 with 1 Axes>"
            ],
            "image/png": "[encoded data removed]"
          },
          "metadata": {}
        }
      ]
    },
    {
      "cell_type": "code",
      "source": [
        "# Productos más vendidos\n",
        "productos_mas_vendidos = df.groupby('N° de factura')['Cantidad'].sum().sort_values(ascending=False).head(10)\n",
        "productos_mas_vendidos.plot(kind='bar', figsize=(10, 6))\n",
        "plt.title('Productos Más Vendidos')\n",
        "plt.xlabel('ID del Producto')\n",
        "plt.ylabel('Cantidad Vendida')\n",
        "plt.show()"
      ],
      "metadata": {
        "colab": {
          "base_uri": "https://localhost:8080/",
          "height": 603
        },
        "id": "acCTN5eZCAAj",
        "outputId": "e32d52bd-c351-48bd-89ab-b67af9b89c4e"
      },
      "execution_count": null,
      "outputs": [
        {
          "output_type": "display_data",
          "data": {
            "text/plain": [
              "<Figure size 1000x600 with 1 Axes>"
            ],
            "image/png": "[encoded data removed]"
          },
          "metadata": {}
        }
      ]
    },
    {
      "cell_type": "code",
      "source": [
        "\n",
        "# Clustering de clientes\n",
        "clientes = df.groupby('ID Cliente').agg({\n",
        "    'Cantidad': 'sum',\n",
        "    'Monto': 'sum'\n",
        "}).rename(columns={'Cantidad': 'frecuencia_compra', 'Monto': 'monto_total'})\n",
        "\n",
        "# Aplicar K-Means\n",
        "kmeans = KMeans(n_clusters=3)\n",
        "clientes['cluster'] = kmeans.fit_predict(clientes[['frecuencia_compra', 'monto_total']])\n",
        "\n",
        "# Visualizar clústeres\n",
        "sns.scatterplot(x='frecuencia_compra', y='monto_total', hue='cluster', data=clientes)\n",
        "plt.title('Clustering de Clientes')\n",
        "plt.xlabel('Frecuencia de Compra')\n",
        "plt.ylabel('Monto Total')\n",
        "plt.show()"
      ],
      "metadata": {
        "colab": {
          "base_uri": "https://localhost:8080/",
          "height": 527
        },
        "id": "WRpASTKaCDom",
        "outputId": "756aa410-43b0-445b-b41e-1aa23387db8c"
      },
      "execution_count": null,
      "outputs": [
        {
          "output_type": "stream",
          "name": "stderr",
          "text": [
            "/usr/local/lib/python3.10/dist-packages/sklearn/cluster/_kmeans.py:870: FutureWarning: The default value of `n_init` will change from 10 to 'auto' in 1.4. Set the value of `n_init` explicitly to suppress the warning\n",
            "  warnings.warn(\n"
          ]
        },
        {
          "output_type": "display_data",
          "data": {
            "text/plain": [
              "<Figure size 640x480 with 1 Axes>"
            ],
            "image/png": "[encoded data removed]"
          },
          "metadata": {}
        }
      ]
    },
    {
      "cell_type": "code",
      "source": [
        "# Identificar los meses con las ventas más altas\n",
        "picos_ventas = ventas_mensuales.sort_values(ascending=False).head(3)\n",
        "print(\"Meses con los picos de ventas más altos:\")\n",
        "print(picos_ventas)\n",
        "\n",
        "# Filtrar datos para esos meses y analizar eventos/campañas\n",
        "picos_meses = picos_ventas.index\n",
        "\n",
        "for mes in picos_meses:\n",
        "    print(f\"Análisis del mes: {mes}\")\n",
        "    ventas_mes = df[df['mes'] == mes]\n",
        "\n",
        "    # Agrupar por producto para ver qué productos fueron más vendidos\n",
        "    productos_mes = ventas_mes.groupby('N° de factura')['Cantidad'].sum().sort_values(ascending=False)\n",
        "    print(\"Productos más vendidos en este mes:\")\n",
        "    print(productos_mes.head(10))\n",
        "\n",
        "    # Aquí podríamos agregar análisis de campañas, promociones, etc.\n",
        "    # Por ejemplo, si tenemos una columna de 'promociones' o 'eventos'\n",
        "    # print(ventas_mes['promociones'].value_counts())"
      ],
      "metadata": {
        "colab": {
          "base_uri": "https://localhost:8080/"
        },
        "id": "ZgjdvVbQDtMk",
        "outputId": "bab0baa6-c170-43b9-81b0-e0d4f30e778d"
      },
      "execution_count": null,
      "outputs": [
        {
          "output_type": "stream",
          "name": "stdout",
          "text": [
            "Meses con los picos de ventas más altos:\n",
            "mes\n",
            "2021-11    669915\n",
            "2021-10    569666\n",
            "2021-09    537496\n",
            "Freq: M, Name: Cantidad, dtype: int64\n",
            "Análisis del mes: 2021-11\n",
            "Productos más vendidos en este mes:\n",
            "N° de factura\n",
            "578841    12540\n",
            "575508     6712\n",
            "578140     5760\n",
            "574328     4981\n",
            "574341     4752\n",
            "575219     4675\n",
            "574092     4074\n",
            "574294     3840\n",
            "578125     3806\n",
            "575335     3684\n",
            "Name: Cantidad, dtype: int64\n",
            "Análisis del mes: 2021-10\n",
            "Productos más vendidos en este mes:\n",
            "N° de factura\n",
            "572035    13392\n",
            "569570     7020\n",
            "569650     6895\n",
            "569815     6016\n",
            "571318     5952\n",
            "571653     5918\n",
            "573153     5205\n",
            "569572     5000\n",
            "573008     4936\n",
            "571937     4462\n",
            "Name: Cantidad, dtype: int64\n",
            "Análisis del mes: 2021-09\n",
            "Productos más vendidos en este mes:\n",
            "N° de factura\n",
            "567423    12572\n",
            "566595     7824\n",
            "567280     6932\n",
            "567381     6760\n",
            "565475     5034\n",
            "566557     4951\n",
            "565150     4871\n",
            "566494     4072\n",
            "567290     3717\n",
            "566934     2893\n",
            "Name: Cantidad, dtype: int64\n"
          ]
        }
      ]
    }
  ]
}