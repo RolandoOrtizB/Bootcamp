{
  "nbformat": 4,
  "nbformat_minor": 0,
  "metadata": {
    "colab": {
      "provenance": [],
      "authorship_tag": "ABX9TyMl7KquthQFtHN8IBocC06C",
      "include_colab_link": true
    },
    "kernelspec": {
      "name": "python3",
      "display_name": "Python 3"
    },
    "language_info": {
      "name": "python"
    }
  },
  "cells": [
    {
      "cell_type": "markdown",
      "metadata": {
        "id": "view-in-github",
        "colab_type": "text"
      },
      "source": [
        "<a href=\"https://colab.research.google.com/github/RolandoOrtizB/Bootcamp/blob/main/Proyecto20042024.ipynb\" target=\"_parent\"><img src=\"https://colab.research.google.com/assets/colab-badge.svg\" alt=\"Open In Colab\"/></a>"
      ]
    },
    {
      "cell_type": "markdown",
      "source": [
        "# **Análisis de Ventas de una Tienda Online**\n",
        "**Objetivos:**\n",
        "\n",
        "**Limpieza de datos:** Limpiar y preparar los datos de ventas para el análisis.\n",
        "\n",
        "**Análisis exploratorio:**Realizar un análisis exploratorio de los datos utilizando gráficos.\n",
        "\n",
        "**Clústeres:** Agrupar clientes o productos en clústeres basados en sus comportamientos de compra.\n",
        "\n",
        "**Visualización:**Crear visualizaciones para representar los hallazgos.\n",
        "\n",
        "Link video explicacion\n",
        "https://youtu.be/dI0O-Tb3iFQ\n"
      ],
      "metadata": {
        "id": "Jo4b4nbyGbz6"
      }
    },
    {
      "cell_type": "code",
      "execution_count": null,
      "metadata": {
        "id": "6yREF7tEu2pB"
      },
      "outputs": [],
      "source": [
        "import pandas as pd\n",
        "import matplotlib.pyplot as plt\n",
        "import seaborn as sns\n",
        "\n"
      ]
    },
    {
      "cell_type": "code",
      "source": [
        "ruta ='/ventas-por-factura.csv'\n",
        "df = pd.read_csv(ruta)\n"
      ],
      "metadata": {
        "id": "OzlJDDKmw9Gx"
      },
      "execution_count": null,
      "outputs": []
    },
    {
      "cell_type": "markdown",
      "source": [
        "url del data set https://www.kaggle.com/datasets/datacertlaboratoria/proyecto-3-segmentacin-de-clientes-en-ecommerce"
      ],
      "metadata": {
        "id": "0SZm6iR3IVVM"
      }
    },
    {
      "cell_type": "markdown",
      "source": [
        "# **Análisis exploratorio de datos**"
      ],
      "metadata": {
        "id": "TZn96haL9hdl"
      }
    },
    {
      "cell_type": "code",
      "source": [
        "df.head()"
      ],
      "metadata": {
        "colab": {
          "base_uri": "https://localhost:8080/",
          "height": 206
        },
        "id": "rizrVwaZylIa",
        "outputId": "50b8292f-0a0b-410e-d69a-92f03f469d85"
      },
      "execution_count": null,
      "outputs": [
        {
          "output_type": "execute_result",
          "data": {
            "text/plain": [
              "  N° de factura    Fecha de factura  ID Cliente            País  Cantidad  \\\n",
              "0        548370 2021-03-30 16:14:00     15528.0  United Kingdom       123   \n",
              "1        575767 2021-11-11 11:11:00     17348.0  United Kingdom       163   \n",
              "2       C570727 2021-10-12 11:32:00     12471.0         Germany        -1   \n",
              "3        549106 2021-04-06 12:08:00     17045.0  United Kingdom         1   \n",
              "4        573112 2021-10-27 15:33:00     16416.0  United Kingdom       357   \n",
              "\n",
              "     Monto      mes  \n",
              "0  22933.0  2021-03  \n",
              "1  20973.0  2021-11  \n",
              "2   -145.0  2021-10  \n",
              "3   3995.0  2021-04  \n",
              "4  34483.0  2021-10  "
            ],
            "text/html": [
              "\n",
              "  <div id=\"df-183b67d4-47b7-4724-9971-81a94d92e1de\" class=\"colab-df-container\">\n",
              "    <div>\n",
              "<style scoped>\n",
              "    .dataframe tbody tr th:only-of-type {\n",
              "        vertical-align: middle;\n",
              "    }\n",
              "\n",
              "    .dataframe tbody tr th {\n",
              "        vertical-align: top;\n",
              "    }\n",
              "\n",
              "    .dataframe thead th {\n",
              "        text-align: right;\n",
              "    }\n",
              "</style>\n",
              "<table border=\"1\" class=\"dataframe\">\n",
              "  <thead>\n",
              "    <tr style=\"text-align: right;\">\n",
              "      <th></th>\n",
              "      <th>N° de factura</th>\n",
              "      <th>Fecha de factura</th>\n",
              "      <th>ID Cliente</th>\n",
              "      <th>País</th>\n",
              "      <th>Cantidad</th>\n",
              "      <th>Monto</th>\n",
              "      <th>mes</th>\n",
              "    </tr>\n",
              "  </thead>\n",
              "  <tbody>\n",
              "    <tr>\n",
              "      <th>0</th>\n",
              "      <td>548370</td>\n",
              "      <td>2021-03-30 16:14:00</td>\n",
              "      <td>15528.0</td>\n",
              "      <td>United Kingdom</td>\n",
              "      <td>123</td>\n",
              "      <td>22933.0</td>\n",
              "      <td>2021-03</td>\n",
              "    </tr>\n",
              "    <tr>\n",
              "      <th>1</th>\n",
              "      <td>575767</td>\n",
              "      <td>2021-11-11 11:11:00</td>\n",
              "      <td>17348.0</td>\n",
              "      <td>United Kingdom</td>\n",
              "      <td>163</td>\n",
              "      <td>20973.0</td>\n",
              "      <td>2021-11</td>\n",
              "    </tr>\n",
              "    <tr>\n",
              "      <th>2</th>\n",
              "      <td>C570727</td>\n",
              "      <td>2021-10-12 11:32:00</td>\n",
              "      <td>12471.0</td>\n",
              "      <td>Germany</td>\n",
              "      <td>-1</td>\n",
              "      <td>-145.0</td>\n",
              "      <td>2021-10</td>\n",
              "    </tr>\n",
              "    <tr>\n",
              "      <th>3</th>\n",
              "      <td>549106</td>\n",
              "      <td>2021-04-06 12:08:00</td>\n",
              "      <td>17045.0</td>\n",
              "      <td>United Kingdom</td>\n",
              "      <td>1</td>\n",
              "      <td>3995.0</td>\n",
              "      <td>2021-04</td>\n",
              "    </tr>\n",
              "    <tr>\n",
              "      <th>4</th>\n",
              "      <td>573112</td>\n",
              "      <td>2021-10-27 15:33:00</td>\n",
              "      <td>16416.0</td>\n",
              "      <td>United Kingdom</td>\n",
              "      <td>357</td>\n",
              "      <td>34483.0</td>\n",
              "      <td>2021-10</td>\n",
              "    </tr>\n",
              "  </tbody>\n",
              "</table>\n",
              "</div>\n",
              "    <div class=\"colab-df-buttons\">\n",
              "\n",
              "  <div class=\"colab-df-container\">\n",
              "    <button class=\"colab-df-convert\" onclick=\"convertToInteractive('df-183b67d4-47b7-4724-9971-81a94d92e1de')\"\n",
              "            title=\"Convert this dataframe to an interactive table.\"\n",
              "            style=\"display:none;\">\n",
              "\n",
              "  <svg xmlns=\"http://www.w3.org/2000/svg\" height=\"24px\" viewBox=\"0 -960 960 960\">\n",
              "    <path d=\"M120-120v-720h720v720H120Zm60-500h600v-160H180v160Zm220 220h160v-160H400v160Zm0 220h160v-160H400v160ZM180-400h160v-160H180v160Zm440 0h160v-160H620v160ZM180-180h160v-160H180v160Zm440 0h160v-160H620v160Z\"/>\n",
              "  </svg>\n",
              "    </button>\n",
              "\n",
              "  <style>\n",
              "    .colab-df-container {\n",
              "      display:flex;\n",
              "      gap: 12px;\n",
              "    }\n",
              "\n",
              "    .colab-df-convert {\n",
              "      background-color: #E8F0FE;\n",
              "      border: none;\n",
              "      border-radius: 50%;\n",
              "      cursor: pointer;\n",
              "      display: none;\n",
              "      fill: #1967D2;\n",
              "      height: 32px;\n",
              "      padding: 0 0 0 0;\n",
              "      width: 32px;\n",
              "    }\n",
              "\n",
              "    .colab-df-convert:hover {\n",
              "      background-color: #E2EBFA;\n",
              "      box-shadow: 0px 1px 2px rgba(60, 64, 67, 0.3), 0px 1px 3px 1px rgba(60, 64, 67, 0.15);\n",
              "      fill: #174EA6;\n",
              "    }\n",
              "\n",
              "    .colab-df-buttons div {\n",
              "      margin-bottom: 4px;\n",
              "    }\n",
              "\n",
              "    [theme=dark] .colab-df-convert {\n",
              "      background-color: #3B4455;\n",
              "      fill: #D2E3FC;\n",
              "    }\n",
              "\n",
              "    [theme=dark] .colab-df-convert:hover {\n",
              "      background-color: #434B5C;\n",
              "      box-shadow: 0px 1px 3px 1px rgba(0, 0, 0, 0.15);\n",
              "      filter: drop-shadow(0px 1px 2px rgba(0, 0, 0, 0.3));\n",
              "      fill: #FFFFFF;\n",
              "    }\n",
              "  </style>\n",
              "\n",
              "    <script>\n",
              "      const buttonEl =\n",
              "        document.querySelector('#df-183b67d4-47b7-4724-9971-81a94d92e1de button.colab-df-convert');\n",
              "      buttonEl.style.display =\n",
              "        google.colab.kernel.accessAllowed ? 'block' : 'none';\n",
              "\n",
              "      async function convertToInteractive(key) {\n",
              "        const element = document.querySelector('#df-183b67d4-47b7-4724-9971-81a94d92e1de');\n",
              "        const dataTable =\n",
              "          await google.colab.kernel.invokeFunction('convertToInteractive',\n",
              "                                                    [key], {});\n",
              "        if (!dataTable) return;\n",
              "\n",
              "        const docLinkHtml = 'Like what you see? Visit the ' +\n",
              "          '<a target=\"_blank\" href=https://colab.research.google.com/notebooks/data_table.ipynb>data table notebook</a>'\n",
              "          + ' to learn more about interactive tables.';\n",
              "        element.innerHTML = '';\n",
              "        dataTable['output_type'] = 'display_data';\n",
              "        await google.colab.output.renderOutput(dataTable, element);\n",
              "        const docLink = document.createElement('div');\n",
              "        docLink.innerHTML = docLinkHtml;\n",
              "        element.appendChild(docLink);\n",
              "      }\n",
              "    </script>\n",
              "  </div>\n",
              "\n",
              "\n",
              "<div id=\"df-3a06864b-0b31-4efb-b603-e290c5f0724f\">\n",
              "  <button class=\"colab-df-quickchart\" onclick=\"quickchart('df-3a06864b-0b31-4efb-b603-e290c5f0724f')\"\n",
              "            title=\"Suggest charts\"\n",
              "            style=\"display:none;\">\n",
              "\n",
              "<svg xmlns=\"http://www.w3.org/2000/svg\" height=\"24px\"viewBox=\"0 0 24 24\"\n",
              "     width=\"24px\">\n",
              "    <g>\n",
              "        <path d=\"M19 3H5c-1.1 0-2 .9-2 2v14c0 1.1.9 2 2 2h14c1.1 0 2-.9 2-2V5c0-1.1-.9-2-2-2zM9 17H7v-7h2v7zm4 0h-2V7h2v10zm4 0h-2v-4h2v4z\"/>\n",
              "    </g>\n",
              "</svg>\n",
              "  </button>\n",
              "\n",
              "<style>\n",
              "  .colab-df-quickchart {\n",
              "      --bg-color: #E8F0FE;\n",
              "      --fill-color: #1967D2;\n",
              "      --hover-bg-color: #E2EBFA;\n",
              "      --hover-fill-color: #174EA6;\n",
              "      --disabled-fill-color: #AAA;\n",
              "      --disabled-bg-color: #DDD;\n",
              "  }\n",
              "\n",
              "  [theme=dark] .colab-df-quickchart {\n",
              "      --bg-color: #3B4455;\n",
              "      --fill-color: #D2E3FC;\n",
              "      --hover-bg-color: #434B5C;\n",
              "      --hover-fill-color: #FFFFFF;\n",
              "      --disabled-bg-color: #3B4455;\n",
              "      --disabled-fill-color: #666;\n",
              "  }\n",
              "\n",
              "  .colab-df-quickchart {\n",
              "    background-color: var(--bg-color);\n",
              "    border: none;\n",
              "    border-radius: 50%;\n",
              "    cursor: pointer;\n",
              "    display: none;\n",
              "    fill: var(--fill-color);\n",
              "    height: 32px;\n",
              "    padding: 0;\n",
              "    width: 32px;\n",
              "  }\n",
              "\n",
              "  .colab-df-quickchart:hover {\n",
              "    background-color: var(--hover-bg-color);\n",
              "    box-shadow: 0 1px 2px rgba(60, 64, 67, 0.3), 0 1px 3px 1px rgba(60, 64, 67, 0.15);\n",
              "    fill: var(--button-hover-fill-color);\n",
              "  }\n",
              "\n",
              "  .colab-df-quickchart-complete:disabled,\n",
              "  .colab-df-quickchart-complete:disabled:hover {\n",
              "    background-color: var(--disabled-bg-color);\n",
              "    fill: var(--disabled-fill-color);\n",
              "    box-shadow: none;\n",
              "  }\n",
              "\n",
              "  .colab-df-spinner {\n",
              "    border: 2px solid var(--fill-color);\n",
              "    border-color: transparent;\n",
              "    border-bottom-color: var(--fill-color);\n",
              "    animation:\n",
              "      spin 1s steps(1) infinite;\n",
              "  }\n",
              "\n",
              "  @keyframes spin {\n",
              "    0% {\n",
              "      border-color: transparent;\n",
              "      border-bottom-color: var(--fill-color);\n",
              "      border-left-color: var(--fill-color);\n",
              "    }\n",
              "    20% {\n",
              "      border-color: transparent;\n",
              "      border-left-color: var(--fill-color);\n",
              "      border-top-color: var(--fill-color);\n",
              "    }\n",
              "    30% {\n",
              "      border-color: transparent;\n",
              "      border-left-color: var(--fill-color);\n",
              "      border-top-color: var(--fill-color);\n",
              "      border-right-color: var(--fill-color);\n",
              "    }\n",
              "    40% {\n",
              "      border-color: transparent;\n",
              "      border-right-color: var(--fill-color);\n",
              "      border-top-color: var(--fill-color);\n",
              "    }\n",
              "    60% {\n",
              "      border-color: transparent;\n",
              "      border-right-color: var(--fill-color);\n",
              "    }\n",
              "    80% {\n",
              "      border-color: transparent;\n",
              "      border-right-color: var(--fill-color);\n",
              "      border-bottom-color: var(--fill-color);\n",
              "    }\n",
              "    90% {\n",
              "      border-color: transparent;\n",
              "      border-bottom-color: var(--fill-color);\n",
              "    }\n",
              "  }\n",
              "</style>\n",
              "\n",
              "  <script>\n",
              "    async function quickchart(key) {\n",
              "      const quickchartButtonEl =\n",
              "        document.querySelector('#' + key + ' button');\n",
              "      quickchartButtonEl.disabled = true;  // To prevent multiple clicks.\n",
              "      quickchartButtonEl.classList.add('colab-df-spinner');\n",
              "      try {\n",
              "        const charts = await google.colab.kernel.invokeFunction(\n",
              "            'suggestCharts', [key], {});\n",
              "      } catch (error) {\n",
              "        console.error('Error during call to suggestCharts:', error);\n",
              "      }\n",
              "      quickchartButtonEl.classList.remove('colab-df-spinner');\n",
              "      quickchartButtonEl.classList.add('colab-df-quickchart-complete');\n",
              "    }\n",
              "    (() => {\n",
              "      let quickchartButtonEl =\n",
              "        document.querySelector('#df-3a06864b-0b31-4efb-b603-e290c5f0724f button');\n",
              "      quickchartButtonEl.style.display =\n",
              "        google.colab.kernel.accessAllowed ? 'block' : 'none';\n",
              "    })();\n",
              "  </script>\n",
              "</div>\n",
              "\n",
              "    </div>\n",
              "  </div>\n"
            ],
            "application/vnd.google.colaboratory.intrinsic+json": {
              "type": "dataframe",
              "variable_name": "df",
              "summary": "{\n  \"name\": \"df\",\n  \"rows\": 22221,\n  \"fields\": [\n    {\n      \"column\": \"N\\u00b0 de factura\",\n      \"properties\": {\n        \"dtype\": \"string\",\n        \"num_unique_values\": 22190,\n        \"samples\": [\n          \"561711\",\n          \"575612\",\n          \"C541234\"\n        ],\n        \"semantic_type\": \"\",\n        \"description\": \"\"\n      }\n    },\n    {\n      \"column\": \"Fecha de factura\",\n      \"properties\": {\n        \"dtype\": \"date\",\n        \"min\": \"2020-12-01 08:26:00\",\n        \"max\": \"2021-12-09 12:50:00\",\n        \"num_unique_values\": 20460,\n        \"samples\": [\n          \"2021-05-05 10:20:00\",\n          \"2021-11-18 08:21:00\",\n          \"2021-02-21 12:38:00\"\n        ],\n        \"semantic_type\": \"\",\n        \"description\": \"\"\n      }\n    },\n    {\n      \"column\": \"ID Cliente\",\n      \"properties\": {\n        \"dtype\": \"number\",\n        \"std\": 1732.9870976252018,\n        \"min\": 12346.0,\n        \"max\": 18287.0,\n        \"num_unique_values\": 4372,\n        \"samples\": [\n          17154.0,\n          15869.0,\n          13078.0\n        ],\n        \"semantic_type\": \"\",\n        \"description\": \"\"\n      }\n    },\n    {\n      \"column\": \"Pa\\u00eds\",\n      \"properties\": {\n        \"dtype\": \"category\",\n        \"num_unique_values\": 37,\n        \"samples\": [\n          \"United Arab Emirates\",\n          \"Finland\",\n          \"Sweden\"\n        ],\n        \"semantic_type\": \"\",\n        \"description\": \"\"\n      }\n    },\n    {\n      \"column\": \"Cantidad\",\n      \"properties\": {\n        \"dtype\": \"number\",\n        \"std\": 1169,\n        \"min\": -80995,\n        \"max\": 80995,\n        \"num_unique_values\": 1593,\n        \"samples\": [\n          3843,\n          -600,\n          -196\n        ],\n        \"semantic_type\": \"\",\n        \"description\": \"\"\n      }\n    },\n    {\n      \"column\": \"Monto\",\n      \"properties\": {\n        \"dtype\": \"number\",\n        \"std\": 201699.95012882102,\n        \"min\": -16846960.0,\n        \"max\": 16846960.0,\n        \"num_unique_values\": 16287,\n        \"samples\": [\n          30818.0,\n          16396.0,\n          31403.0\n        ],\n        \"semantic_type\": \"\",\n        \"description\": \"\"\n      }\n    },\n    {\n      \"column\": \"mes\",\n      \"properties\": {\n        \"dtype\": \"period[M]\",\n        \"num_unique_values\": 13,\n        \"samples\": [\n          \"2021-01\",\n          \"2021-06\",\n          \"2021-03\"\n        ],\n        \"semantic_type\": \"\",\n        \"description\": \"\"\n      }\n    }\n  ]\n}"
            }
          },
          "metadata": {},
          "execution_count": 63
        }
      ]
    },
    {
      "cell_type": "code",
      "source": [
        "#validar si los espacios son categorica y numerica, se realiza validacion para tipo de la infomacion con data.info()  int64 numerica, object categorica, float64 flotante\n",
        "df.info()"
      ],
      "metadata": {
        "colab": {
          "base_uri": "https://localhost:8080/"
        },
        "id": "Y9UBSPkNzTLb",
        "outputId": "aa6482c8-71a0-44bf-ba8f-9647f8753236"
      },
      "execution_count": null,
      "outputs": [
        {
          "output_type": "stream",
          "name": "stdout",
          "text": [
            "<class 'pandas.core.frame.DataFrame'>\n",
            "RangeIndex: 25953 entries, 0 to 25952\n",
            "Data columns (total 6 columns):\n",
            " #   Column            Non-Null Count  Dtype  \n",
            "---  ------            --------------  -----  \n",
            " 0   N° de factura     25953 non-null  object \n",
            " 1   Fecha de factura  25953 non-null  object \n",
            " 2   ID Cliente        22229 non-null  float64\n",
            " 3   País              25953 non-null  object \n",
            " 4   Cantidad          25953 non-null  int64  \n",
            " 5   Monto             25953 non-null  object \n",
            "dtypes: float64(1), int64(1), object(4)\n",
            "memory usage: 1.2+ MB\n"
          ]
        }
      ]
    },
    {
      "cell_type": "markdown",
      "source": [
        "validar:\n",
        "1. datos faltantes celdas en blanco\n",
        "2. columnas irrelevantes.\n",
        "3. registros repetidos, eliminar filas repetidas\n",
        "4. valores extremos. (outliers) ejemplo edad 200 años\n",
        "5. errores tipograficos unificar tipogramia todos M o m\n",
        "\n",
        "\n"
      ],
      "metadata": {
        "id": "4cGfMMze1GbN"
      }
    },
    {
      "cell_type": "code",
      "source": [
        "# Eliminar duplicados\n",
        "df = df.drop_duplicates()\n",
        "\n",
        "# Tratar valores nulos (dependiendo de las columnas, esto puede variar)\n",
        "df = df.dropna()\n",
        "\n",
        "# Convertir fechas si hay una columna de fecha\n",
        "if 'fecha_venta' in df.columns:\n",
        "    df['fecha_venta'] = pd.to_datetime(df['fecha_venta'])\n",
        "\n",
        "df.info()  # Para verificar los tipos de datos"
      ],
      "metadata": {
        "colab": {
          "base_uri": "https://localhost:8080/"
        },
        "id": "RD8Pl01O0Tb7",
        "outputId": "5f0dbdc6-cf79-46de-d529-30adef22a4f6"
      },
      "execution_count": null,
      "outputs": [
        {
          "output_type": "stream",
          "name": "stdout",
          "text": [
            "<class 'pandas.core.frame.DataFrame'>\n",
            "Index: 22221 entries, 0 to 25951\n",
            "Data columns (total 6 columns):\n",
            " #   Column            Non-Null Count  Dtype  \n",
            "---  ------            --------------  -----  \n",
            " 0   N° de factura     22221 non-null  object \n",
            " 1   Fecha de factura  22221 non-null  object \n",
            " 2   ID Cliente        22221 non-null  float64\n",
            " 3   País              22221 non-null  object \n",
            " 4   Cantidad          22221 non-null  int64  \n",
            " 5   Monto             22221 non-null  object \n",
            "dtypes: float64(1), int64(1), object(4)\n",
            "memory usage: 1.2+ MB\n"
          ]
        }
      ]
    },
    {
      "cell_type": "markdown",
      "source": [
        "lo anterior, se extrae informacion de los niveles de cada columna categorica, para mirar si son informaciones unicas"
      ],
      "metadata": {
        "id": "ooUcJXUc6GCn"
      }
    },
    {
      "cell_type": "code",
      "source": [
        "df.describe() #nos deja ver todas las columnas nomericas\n"
      ],
      "metadata": {
        "colab": {
          "base_uri": "https://localhost:8080/",
          "height": 300
        },
        "id": "1vk8f6wA7FBj",
        "outputId": "f278a04e-94f6-4a10-bfba-bdbc45c58ef2"
      },
      "execution_count": null,
      "outputs": [
        {
          "output_type": "execute_result",
          "data": {
            "text/plain": [
              "         ID Cliente      Cantidad\n",
              "count  22221.000000  22221.000000\n",
              "mean   15238.398317    220.822105\n",
              "std     1732.987098   1169.306198\n",
              "min    12346.000000 -80995.000000\n",
              "25%    13755.000000     30.000000\n",
              "50%    15136.000000    120.000000\n",
              "75%    16746.000000    254.000000\n",
              "max    18287.000000  80995.000000"
            ],
            "text/html": [
              "\n",
              "  <div id=\"df-8dff6ada-91ff-4658-9d65-f8ee6f5a72b2\" class=\"colab-df-container\">\n",
              "    <div>\n",
              "<style scoped>\n",
              "    .dataframe tbody tr th:only-of-type {\n",
              "        vertical-align: middle;\n",
              "    }\n",
              "\n",
              "    .dataframe tbody tr th {\n",
              "        vertical-align: top;\n",
              "    }\n",
              "\n",
              "    .dataframe thead th {\n",
              "        text-align: right;\n",
              "    }\n",
              "</style>\n",
              "<table border=\"1\" class=\"dataframe\">\n",
              "  <thead>\n",
              "    <tr style=\"text-align: right;\">\n",
              "      <th></th>\n",
              "      <th>ID Cliente</th>\n",
              "      <th>Cantidad</th>\n",
              "    </tr>\n",
              "  </thead>\n",
              "  <tbody>\n",
              "    <tr>\n",
              "      <th>count</th>\n",
              "      <td>22221.000000</td>\n",
              "      <td>22221.000000</td>\n",
              "    </tr>\n",
              "    <tr>\n",
              "      <th>mean</th>\n",
              "      <td>15238.398317</td>\n",
              "      <td>220.822105</td>\n",
              "    </tr>\n",
              "    <tr>\n",
              "      <th>std</th>\n",
              "      <td>1732.987098</td>\n",
              "      <td>1169.306198</td>\n",
              "    </tr>\n",
              "    <tr>\n",
              "      <th>min</th>\n",
              "      <td>12346.000000</td>\n",
              "      <td>-80995.000000</td>\n",
              "    </tr>\n",
              "    <tr>\n",
              "      <th>25%</th>\n",
              "      <td>13755.000000</td>\n",
              "      <td>30.000000</td>\n",
              "    </tr>\n",
              "    <tr>\n",
              "      <th>50%</th>\n",
              "      <td>15136.000000</td>\n",
              "      <td>120.000000</td>\n",
              "    </tr>\n",
              "    <tr>\n",
              "      <th>75%</th>\n",
              "      <td>16746.000000</td>\n",
              "      <td>254.000000</td>\n",
              "    </tr>\n",
              "    <tr>\n",
              "      <th>max</th>\n",
              "      <td>18287.000000</td>\n",
              "      <td>80995.000000</td>\n",
              "    </tr>\n",
              "  </tbody>\n",
              "</table>\n",
              "</div>\n",
              "    <div class=\"colab-df-buttons\">\n",
              "\n",
              "  <div class=\"colab-df-container\">\n",
              "    <button class=\"colab-df-convert\" onclick=\"convertToInteractive('df-8dff6ada-91ff-4658-9d65-f8ee6f5a72b2')\"\n",
              "            title=\"Convert this dataframe to an interactive table.\"\n",
              "            style=\"display:none;\">\n",
              "\n",
              "  <svg xmlns=\"http://www.w3.org/2000/svg\" height=\"24px\" viewBox=\"0 -960 960 960\">\n",
              "    <path d=\"M120-120v-720h720v720H120Zm60-500h600v-160H180v160Zm220 220h160v-160H400v160Zm0 220h160v-160H400v160ZM180-400h160v-160H180v160Zm440 0h160v-160H620v160ZM180-180h160v-160H180v160Zm440 0h160v-160H620v160Z\"/>\n",
              "  </svg>\n",
              "    </button>\n",
              "\n",
              "  <style>\n",
              "    .colab-df-container {\n",
              "      display:flex;\n",
              "      gap: 12px;\n",
              "    }\n",
              "\n",
              "    .colab-df-convert {\n",
              "      background-color: #E8F0FE;\n",
              "      border: none;\n",
              "      border-radius: 50%;\n",
              "      cursor: pointer;\n",
              "      display: none;\n",
              "      fill: #1967D2;\n",
              "      height: 32px;\n",
              "      padding: 0 0 0 0;\n",
              "      width: 32px;\n",
              "    }\n",
              "\n",
              "    .colab-df-convert:hover {\n",
              "      background-color: #E2EBFA;\n",
              "      box-shadow: 0px 1px 2px rgba(60, 64, 67, 0.3), 0px 1px 3px 1px rgba(60, 64, 67, 0.15);\n",
              "      fill: #174EA6;\n",
              "    }\n",
              "\n",
              "    .colab-df-buttons div {\n",
              "      margin-bottom: 4px;\n",
              "    }\n",
              "\n",
              "    [theme=dark] .colab-df-convert {\n",
              "      background-color: #3B4455;\n",
              "      fill: #D2E3FC;\n",
              "    }\n",
              "\n",
              "    [theme=dark] .colab-df-convert:hover {\n",
              "      background-color: #434B5C;\n",
              "      box-shadow: 0px 1px 3px 1px rgba(0, 0, 0, 0.15);\n",
              "      filter: drop-shadow(0px 1px 2px rgba(0, 0, 0, 0.3));\n",
              "      fill: #FFFFFF;\n",
              "    }\n",
              "  </style>\n",
              "\n",
              "    <script>\n",
              "      const buttonEl =\n",
              "        document.querySelector('#df-8dff6ada-91ff-4658-9d65-f8ee6f5a72b2 button.colab-df-convert');\n",
              "      buttonEl.style.display =\n",
              "        google.colab.kernel.accessAllowed ? 'block' : 'none';\n",
              "\n",
              "      async function convertToInteractive(key) {\n",
              "        const element = document.querySelector('#df-8dff6ada-91ff-4658-9d65-f8ee6f5a72b2');\n",
              "        const dataTable =\n",
              "          await google.colab.kernel.invokeFunction('convertToInteractive',\n",
              "                                                    [key], {});\n",
              "        if (!dataTable) return;\n",
              "\n",
              "        const docLinkHtml = 'Like what you see? Visit the ' +\n",
              "          '<a target=\"_blank\" href=https://colab.research.google.com/notebooks/data_table.ipynb>data table notebook</a>'\n",
              "          + ' to learn more about interactive tables.';\n",
              "        element.innerHTML = '';\n",
              "        dataTable['output_type'] = 'display_data';\n",
              "        await google.colab.output.renderOutput(dataTable, element);\n",
              "        const docLink = document.createElement('div');\n",
              "        docLink.innerHTML = docLinkHtml;\n",
              "        element.appendChild(docLink);\n",
              "      }\n",
              "    </script>\n",
              "  </div>\n",
              "\n",
              "\n",
              "<div id=\"df-d5dfeaec-7f82-4886-b3d7-50d3dac597d3\">\n",
              "  <button class=\"colab-df-quickchart\" onclick=\"quickchart('df-d5dfeaec-7f82-4886-b3d7-50d3dac597d3')\"\n",
              "            title=\"Suggest charts\"\n",
              "            style=\"display:none;\">\n",
              "\n",
              "<svg xmlns=\"http://www.w3.org/2000/svg\" height=\"24px\"viewBox=\"0 0 24 24\"\n",
              "     width=\"24px\">\n",
              "    <g>\n",
              "        <path d=\"M19 3H5c-1.1 0-2 .9-2 2v14c0 1.1.9 2 2 2h14c1.1 0 2-.9 2-2V5c0-1.1-.9-2-2-2zM9 17H7v-7h2v7zm4 0h-2V7h2v10zm4 0h-2v-4h2v4z\"/>\n",
              "    </g>\n",
              "</svg>\n",
              "  </button>\n",
              "\n",
              "<style>\n",
              "  .colab-df-quickchart {\n",
              "      --bg-color: #E8F0FE;\n",
              "      --fill-color: #1967D2;\n",
              "      --hover-bg-color: #E2EBFA;\n",
              "      --hover-fill-color: #174EA6;\n",
              "      --disabled-fill-color: #AAA;\n",
              "      --disabled-bg-color: #DDD;\n",
              "  }\n",
              "\n",
              "  [theme=dark] .colab-df-quickchart {\n",
              "      --bg-color: #3B4455;\n",
              "      --fill-color: #D2E3FC;\n",
              "      --hover-bg-color: #434B5C;\n",
              "      --hover-fill-color: #FFFFFF;\n",
              "      --disabled-bg-color: #3B4455;\n",
              "      --disabled-fill-color: #666;\n",
              "  }\n",
              "\n",
              "  .colab-df-quickchart {\n",
              "    background-color: var(--bg-color);\n",
              "    border: none;\n",
              "    border-radius: 50%;\n",
              "    cursor: pointer;\n",
              "    display: none;\n",
              "    fill: var(--fill-color);\n",
              "    height: 32px;\n",
              "    padding: 0;\n",
              "    width: 32px;\n",
              "  }\n",
              "\n",
              "  .colab-df-quickchart:hover {\n",
              "    background-color: var(--hover-bg-color);\n",
              "    box-shadow: 0 1px 2px rgba(60, 64, 67, 0.3), 0 1px 3px 1px rgba(60, 64, 67, 0.15);\n",
              "    fill: var(--button-hover-fill-color);\n",
              "  }\n",
              "\n",
              "  .colab-df-quickchart-complete:disabled,\n",
              "  .colab-df-quickchart-complete:disabled:hover {\n",
              "    background-color: var(--disabled-bg-color);\n",
              "    fill: var(--disabled-fill-color);\n",
              "    box-shadow: none;\n",
              "  }\n",
              "\n",
              "  .colab-df-spinner {\n",
              "    border: 2px solid var(--fill-color);\n",
              "    border-color: transparent;\n",
              "    border-bottom-color: var(--fill-color);\n",
              "    animation:\n",
              "      spin 1s steps(1) infinite;\n",
              "  }\n",
              "\n",
              "  @keyframes spin {\n",
              "    0% {\n",
              "      border-color: transparent;\n",
              "      border-bottom-color: var(--fill-color);\n",
              "      border-left-color: var(--fill-color);\n",
              "    }\n",
              "    20% {\n",
              "      border-color: transparent;\n",
              "      border-left-color: var(--fill-color);\n",
              "      border-top-color: var(--fill-color);\n",
              "    }\n",
              "    30% {\n",
              "      border-color: transparent;\n",
              "      border-left-color: var(--fill-color);\n",
              "      border-top-color: var(--fill-color);\n",
              "      border-right-color: var(--fill-color);\n",
              "    }\n",
              "    40% {\n",
              "      border-color: transparent;\n",
              "      border-right-color: var(--fill-color);\n",
              "      border-top-color: var(--fill-color);\n",
              "    }\n",
              "    60% {\n",
              "      border-color: transparent;\n",
              "      border-right-color: var(--fill-color);\n",
              "    }\n",
              "    80% {\n",
              "      border-color: transparent;\n",
              "      border-right-color: var(--fill-color);\n",
              "      border-bottom-color: var(--fill-color);\n",
              "    }\n",
              "    90% {\n",
              "      border-color: transparent;\n",
              "      border-bottom-color: var(--fill-color);\n",
              "    }\n",
              "  }\n",
              "</style>\n",
              "\n",
              "  <script>\n",
              "    async function quickchart(key) {\n",
              "      const quickchartButtonEl =\n",
              "        document.querySelector('#' + key + ' button');\n",
              "      quickchartButtonEl.disabled = true;  // To prevent multiple clicks.\n",
              "      quickchartButtonEl.classList.add('colab-df-spinner');\n",
              "      try {\n",
              "        const charts = await google.colab.kernel.invokeFunction(\n",
              "            'suggestCharts', [key], {});\n",
              "      } catch (error) {\n",
              "        console.error('Error during call to suggestCharts:', error);\n",
              "      }\n",
              "      quickchartButtonEl.classList.remove('colab-df-spinner');\n",
              "      quickchartButtonEl.classList.add('colab-df-quickchart-complete');\n",
              "    }\n",
              "    (() => {\n",
              "      let quickchartButtonEl =\n",
              "        document.querySelector('#df-d5dfeaec-7f82-4886-b3d7-50d3dac597d3 button');\n",
              "      quickchartButtonEl.style.display =\n",
              "        google.colab.kernel.accessAllowed ? 'block' : 'none';\n",
              "    })();\n",
              "  </script>\n",
              "</div>\n",
              "\n",
              "    </div>\n",
              "  </div>\n"
            ],
            "application/vnd.google.colaboratory.intrinsic+json": {
              "type": "dataframe",
              "summary": "{\n  \"name\": \"df\",\n  \"rows\": 8,\n  \"fields\": [\n    {\n      \"column\": \"ID Cliente\",\n      \"properties\": {\n        \"dtype\": \"number\",\n        \"std\": 5953.446598921896,\n        \"min\": 1732.9870976252018,\n        \"max\": 22221.0,\n        \"num_unique_values\": 8,\n        \"samples\": [\n          15238.398316907429,\n          15136.0,\n          22221.0\n        ],\n        \"semantic_type\": \"\",\n        \"description\": \"\"\n      }\n    },\n    {\n      \"column\": \"Cantidad\",\n      \"properties\": {\n        \"dtype\": \"number\",\n        \"std\": 43986.293235114936,\n        \"min\": -80995.0,\n        \"max\": 80995.0,\n        \"num_unique_values\": 8,\n        \"samples\": [\n          220.82210521578688,\n          120.0,\n          22221.0\n        ],\n        \"semantic_type\": \"\",\n        \"description\": \"\"\n      }\n    }\n  ]\n}"
            }
          },
          "metadata": {},
          "execution_count": 40
        }
      ]
    },
    {
      "cell_type": "code",
      "source": [
        "print(f'Tamaño del set antes de eliminar las filas repetidas: {df.shape}')\n",
        "df.drop_duplicates(inplace=True)  # elimina las filas duplicadas función de pandas\n",
        "print(f'Tamaño del set después de eliminar las filas repetidas: {df.shape}')"
      ],
      "metadata": {
        "colab": {
          "base_uri": "https://localhost:8080/"
        },
        "id": "frP6__Gd8j0G",
        "outputId": "d45f60a7-def0-4724-d8a0-1944d2f36926"
      },
      "execution_count": null,
      "outputs": [
        {
          "output_type": "stream",
          "name": "stdout",
          "text": [
            "Tamaño del set antes de eliminar las filas repetidas: (22221, 6)\n",
            "Tamaño del set después de eliminar las filas repetidas: (22221, 6)\n"
          ]
        }
      ]
    },
    {
      "cell_type": "code",
      "source": [
        "df.info()  # Para verificar los tipos de datos"
      ],
      "metadata": {
        "colab": {
          "base_uri": "https://localhost:8080/"
        },
        "id": "ITGX7ljC66MH",
        "outputId": "0030372a-0d1b-499e-b7e0-f37a9e005e1e"
      },
      "execution_count": null,
      "outputs": [
        {
          "output_type": "stream",
          "name": "stdout",
          "text": [
            "<class 'pandas.core.frame.DataFrame'>\n",
            "Index: 22221 entries, 0 to 25951\n",
            "Data columns (total 6 columns):\n",
            " #   Column            Non-Null Count  Dtype  \n",
            "---  ------            --------------  -----  \n",
            " 0   N° de factura     22221 non-null  object \n",
            " 1   Fecha de factura  22221 non-null  object \n",
            " 2   ID Cliente        22221 non-null  float64\n",
            " 3   País              22221 non-null  object \n",
            " 4   Cantidad          22221 non-null  int64  \n",
            " 5   Monto             22221 non-null  object \n",
            "dtypes: float64(1), int64(1), object(4)\n",
            "memory usage: 1.2+ MB\n"
          ]
        }
      ]
    },
    {
      "cell_type": "code",
      "source": [
        "import matplotlib.pyplot as plt\n",
        "import seaborn as sns\n",
        "\n",
        "# Si hay una columna de fecha, crear una columna de mes para análisis temporal\n",
        "if 'fecha_venta' in df.columns:\n",
        "    df['mes'] = df['fecha_venta'].dt.to_period('M')\n",
        "\n",
        "# Ventas mensuales\n",
        "if 'mes' in df.columns and 'cantidad' in df.columns:\n",
        "    ventas_mensuales = df.groupby('mes')['cantidad'].sum()\n",
        "    ventas_mensuales.plot(kind='bar')\n",
        "    plt.title('Ventas Mensuales')\n",
        "    plt.xlabel('Mes')\n",
        "    plt.ylabel('Cantidad Vendida')\n",
        "    plt.show()\n",
        "\n",
        "# Productos más vendidos\n",
        "if 'producto_id' in df.columns and 'cantidad' in df.columns:\n",
        "    productos_mas_vendidos = df.groupby('producto_id')['cantidad'].sum().sort_values(ascending=False).head(10)\n",
        "    productos_mas_vendidos.plot(kind='bar')\n",
        "    plt.title('Productos Más Vendidos')\n",
        "    plt.xlabel('ID del Producto')\n",
        "    plt.ylabel('Cantidad Vendida')\n",
        "    plt.show()"
      ],
      "metadata": {
        "id": "4maHDjhT9sC9"
      },
      "execution_count": null,
      "outputs": []
    },
    {
      "cell_type": "markdown",
      "source": [
        "Clustering validamos con clustering a los datos para identificar patrones entre los clientes o productos"
      ],
      "metadata": {
        "id": "usYFTryy93mS"
      }
    },
    {
      "cell_type": "code",
      "source": [
        "from sklearn.cluster import KMeans\n",
        "\n",
        "# Clustering de clientes\n",
        "if 'cliente_id' in df.columns and 'cantidad' in df.columns and 'precio' in df.columns:\n",
        "    clientes = df.groupby('cliente_id').agg({\n",
        "        'cantidad': 'sum',\n",
        "        'precio': 'sum'\n",
        "    }).rename(columns={'cantidad': 'frecuencia_compra', 'precio': 'monto_total'})\n",
        "\n",
        "    # Aplicar K-Means\n",
        "    kmeans = KMeans(n_clusters=3)\n",
        "    clientes['cluster'] = kmeans.fit_predict(clientes[['frecuencia_compra', 'monto_total']])\n",
        "\n",
        "    # Visualizar clústeres\n",
        "    sns.scatterplot(x='frecuencia_compra', y='monto_total', hue='cluster', data=clientes)\n",
        "    plt.title('Clustering de Clientes')\n",
        "    plt.xlabel('Frecuencia de Compra')\n",
        "    plt.ylabel('Monto Total')\n",
        "    plt.show()"
      ],
      "metadata": {
        "id": "l5ngPo3g985v"
      },
      "execution_count": null,
      "outputs": []
    },
    {
      "cell_type": "code",
      "source": [
        "# Eliminar duplicados\n",
        "df = df.drop_duplicates()\n",
        "\n",
        "# Tratar valores nulos\n",
        "df = df.dropna()\n",
        "\n",
        "# Convertir fechas\n",
        "df['Fecha de factura'] = pd.to_datetime(df['Fecha de factura'], format='%m/%d/%Y %H:%M:%S')\n",
        "\n",
        "# Convertir 'Monto' a numérico (eliminando las comas)\n",
        "df['Monto'] = df['Monto'].str.replace(',', '').astype(float)\n",
        "\n",
        "# Verificar los tipos de datos después de la limpieza\n",
        "df.info()"
      ],
      "metadata": {
        "colab": {
          "base_uri": "https://localhost:8080/"
        },
        "id": "lIYx-AbB-C16",
        "outputId": "c9d13591-9d3d-42c2-d73a-c87742792788"
      },
      "execution_count": null,
      "outputs": [
        {
          "output_type": "stream",
          "name": "stdout",
          "text": [
            "<class 'pandas.core.frame.DataFrame'>\n",
            "Index: 22221 entries, 0 to 25951\n",
            "Data columns (total 6 columns):\n",
            " #   Column            Non-Null Count  Dtype         \n",
            "---  ------            --------------  -----         \n",
            " 0   N° de factura     22221 non-null  object        \n",
            " 1   Fecha de factura  22221 non-null  datetime64[ns]\n",
            " 2   ID Cliente        22221 non-null  float64       \n",
            " 3   País              22221 non-null  object        \n",
            " 4   Cantidad          22221 non-null  int64         \n",
            " 5   Monto             22221 non-null  float64       \n",
            "dtypes: datetime64[ns](1), float64(2), int64(1), object(2)\n",
            "memory usage: 1.2+ MB\n"
          ]
        }
      ]
    },
    {
      "cell_type": "code",
      "source": [
        "import matplotlib.pyplot as plt\n",
        "import seaborn as sns\n",
        "\n",
        "# Crear una columna de mes para análisis temporal\n",
        "df['mes'] = df['Fecha de factura'].dt.to_period('M')\n",
        "\n",
        "# Ventas mensuales\n",
        "ventas_mensuales = df.groupby('mes')['Cantidad'].sum()\n",
        "ventas_mensuales.plot(kind='bar')\n",
        "plt.title('Ventas Mensuales')\n",
        "plt.xlabel('Mes')\n",
        "plt.ylabel('Cantidad Vendida')\n",
        "plt.show()"
      ],
      "metadata": {
        "colab": {
          "base_uri": "https://localhost:8080/",
          "height": 515
        },
        "id": "ScQMZhtE-ksf",
        "outputId": "96ee2642-9a5b-4ce5-96ae-f4a7ab4befa8"
      },
      "execution_count": null,
      "outputs": [
        {
          "output_type": "display_data",
          "data": {
            "text/plain": [
              "<Figure size 640x480 with 1 Axes>"
            ],
            "image/png": "[encoded data removed]"
          },
          "metadata": {}
        }
      ]
    },
    {
      "cell_type": "code",
      "source": [
        "# Productos más vendidos\n",
        "productos_mas_vendidos = df.groupby('N° de factura')['Cantidad'].sum().sort_values(ascending=False).head(10)\n",
        "productos_mas_vendidos.plot(kind='bar')\n",
        "plt.title('Productos Más Vendidos')\n",
        "plt.xlabel('ID del Producto')\n",
        "plt.ylabel('Cantidad Vendida')\n",
        "plt.show()"
      ],
      "metadata": {
        "colab": {
          "base_uri": "https://localhost:8080/",
          "height": 511
        },
        "id": "jd0d6dQ-_QHQ",
        "outputId": "f6449915-db47-4fdf-84ef-15962a63b0f2"
      },
      "execution_count": null,
      "outputs": [
        {
          "output_type": "display_data",
          "data": {
            "text/plain": [
              "<Figure size 640x480 with 1 Axes>"
            ],
            "image/png": "[encoded data removed]"
          },
          "metadata": {}
        }
      ]
    },
    {
      "cell_type": "markdown",
      "source": [
        "Basado en las visualizaciones, podemos inferir algunas tendencias de los datos de ventas. A continuación, describo las posibles tendencias que se pueden observar en los gráficos de ventas mensuales y de productos más vendidos.\n",
        "\n",
        "**Picos de ventas:** Podremos identificar 3 meses específicos con ventas significativamente más altas, lo cual podría estar relacionado con eventos estacionales, promociones o lanzamientos, así mismo podemos concluir que en el último semestre a excepción de diciembre tiene una tendencia al alza"
      ],
      "metadata": {
        "id": "MPbeG-NvEWsC"
      }
    },
    {
      "cell_type": "markdown",
      "source": [
        "**Análisis de Productos Más Vendidos**\n",
        "En el gráfico de productos más vendidos, observamos los productos que se venden en mayores cantidades. Las tendencias que podemos inferir incluyen:\n",
        "\n",
        "**Productos populares: ** los productos 581483 y 541431 corresponden a las dos referencias con las ventas más altas y nos permite saber que son los más populares entre los clientes. Esto nos puede ayudar a la gestión de inventarios y a la planificación de futuras adquisiciones."
      ],
      "metadata": {
        "id": "r1KBN4_UFf1L"
      }
    },
    {
      "cell_type": "code",
      "source": [
        "#diagrama de codo para identificar el valor optimo ---\n",
        "\n",
        "import matplotlib.pyplot as plt\n",
        "from sklearn.cluster import KMeans\n",
        "\n",
        "# Agrupar datos de clientes\n",
        "clientes = df.groupby('ID Cliente').agg({\n",
        "    'Cantidad': 'sum',\n",
        "    'Monto': 'sum'\n",
        "}).rename(columns={'Cantidad': 'frecuencia_compra', 'Monto': 'monto_total'})\n",
        "\n",
        "# Lista para almacenar los valores de WCSS\n",
        "wcss = []\n",
        "\n",
        "# Probar K-Means con diferentes números de clústeres\n",
        "for i in range(1, 11):\n",
        "    kmeans = KMeans(n_clusters=i, random_state=42)\n",
        "    kmeans.fit(clientes)\n",
        "    wcss.append(kmeans.inertia_)\n",
        "\n",
        "# Generar el diagrama de codo\n",
        "plt.figure(figsize=(10, 6))\n",
        "plt.plot(range(1, 11), wcss, marker='o', linestyle='--')\n",
        "plt.title('Método del Codo')\n",
        "plt.xlabel('Número de Clústeres')\n",
        "plt.ylabel('WCSS')\n",
        "plt.xticks(range(1, 11))\n",
        "plt.grid(True)\n",
        "plt.show()\n"
      ],
      "metadata": {
        "colab": {
          "base_uri": "https://localhost:8080/",
          "height": 931
        },
        "id": "BQxfjv5xKzwh",
        "outputId": "92d9f808-06a6-4f1b-97e1-ed4459fe6a38"
      },
      "execution_count": null,
      "outputs": [
        {
          "output_type": "stream",
          "name": "stderr",
          "text": [
            "/usr/local/lib/python3.10/dist-packages/sklearn/cluster/_kmeans.py:870: FutureWarning: The default value of `n_init` will change from 10 to 'auto' in 1.4. Set the value of `n_init` explicitly to suppress the warning\n",
            "  warnings.warn(\n",
            "/usr/local/lib/python3.10/dist-packages/sklearn/cluster/_kmeans.py:870: FutureWarning: The default value of `n_init` will change from 10 to 'auto' in 1.4. Set the value of `n_init` explicitly to suppress the warning\n",
            "  warnings.warn(\n",
            "/usr/local/lib/python3.10/dist-packages/sklearn/cluster/_kmeans.py:870: FutureWarning: The default value of `n_init` will change from 10 to 'auto' in 1.4. Set the value of `n_init` explicitly to suppress the warning\n",
            "  warnings.warn(\n",
            "/usr/local/lib/python3.10/dist-packages/sklearn/cluster/_kmeans.py:870: FutureWarning: The default value of `n_init` will change from 10 to 'auto' in 1.4. Set the value of `n_init` explicitly to suppress the warning\n",
            "  warnings.warn(\n",
            "/usr/local/lib/python3.10/dist-packages/sklearn/cluster/_kmeans.py:870: FutureWarning: The default value of `n_init` will change from 10 to 'auto' in 1.4. Set the value of `n_init` explicitly to suppress the warning\n",
            "  warnings.warn(\n",
            "/usr/local/lib/python3.10/dist-packages/sklearn/cluster/_kmeans.py:870: FutureWarning: The default value of `n_init` will change from 10 to 'auto' in 1.4. Set the value of `n_init` explicitly to suppress the warning\n",
            "  warnings.warn(\n",
            "/usr/local/lib/python3.10/dist-packages/sklearn/cluster/_kmeans.py:870: FutureWarning: The default value of `n_init` will change from 10 to 'auto' in 1.4. Set the value of `n_init` explicitly to suppress the warning\n",
            "  warnings.warn(\n",
            "/usr/local/lib/python3.10/dist-packages/sklearn/cluster/_kmeans.py:870: FutureWarning: The default value of `n_init` will change from 10 to 'auto' in 1.4. Set the value of `n_init` explicitly to suppress the warning\n",
            "  warnings.warn(\n",
            "/usr/local/lib/python3.10/dist-packages/sklearn/cluster/_kmeans.py:870: FutureWarning: The default value of `n_init` will change from 10 to 'auto' in 1.4. Set the value of `n_init` explicitly to suppress the warning\n",
            "  warnings.warn(\n",
            "/usr/local/lib/python3.10/dist-packages/sklearn/cluster/_kmeans.py:870: FutureWarning: The default value of `n_init` will change from 10 to 'auto' in 1.4. Set the value of `n_init` explicitly to suppress the warning\n",
            "  warnings.warn(\n"
          ]
        },
        {
          "output_type": "display_data",
          "data": {
            "text/plain": [
              "<Figure size 1000x600 with 1 Axes>"
            ],
            "image/png": "[encoded data removed]"
          },
          "metadata": {}
        }
      ]
    },
    {
      "cell_type": "markdown",
      "source": [
        "Teniendo en cuenta el diagrama de codo podemos identificar que el conjunto de datos se concentra en 3 grupos"
      ],
      "metadata": {
        "id": "t0Ov96K0D0ZQ"
      }
    },
    {
      "cell_type": "code",
      "source": [
        "\n",
        "# Clustering de clientes\n",
        "clientes = df.groupby('ID Cliente').agg({\n",
        "    'Cantidad': 'sum',\n",
        "    'Monto': 'sum'\n",
        "}).rename(columns={'Cantidad': 'frecuencia_compra', 'Monto': 'monto_total'})\n",
        "\n",
        "# Aplicar K-Means\n",
        "kmeans = KMeans(n_clusters=3)\n",
        "clientes['cluster'] = kmeans.fit_predict(clientes[['frecuencia_compra', 'monto_total']])\n",
        "\n",
        "# Visualizar clústeres\n",
        "sns.scatterplot(x='frecuencia_compra', y='monto_total', hue='cluster', data=clientes)\n",
        "plt.title('Clustering de Clientes')\n",
        "plt.xlabel('Frecuencia de Compra')\n",
        "plt.ylabel('Monto Total')\n",
        "plt.show()"
      ],
      "metadata": {
        "colab": {
          "base_uri": "https://localhost:8080/",
          "height": 527
        },
        "id": "WRpASTKaCDom",
        "outputId": "d32d3fd0-67d0-43ac-9af5-bf82a93477ba"
      },
      "execution_count": null,
      "outputs": [
        {
          "output_type": "stream",
          "name": "stderr",
          "text": [
            "/usr/local/lib/python3.10/dist-packages/sklearn/cluster/_kmeans.py:870: FutureWarning: The default value of `n_init` will change from 10 to 'auto' in 1.4. Set the value of `n_init` explicitly to suppress the warning\n",
            "  warnings.warn(\n"
          ]
        },
        {
          "output_type": "display_data",
          "data": {
            "text/plain": [
              "<Figure size 640x480 with 1 Axes>"
            ],
            "image/png": "[encoded data removed]"
          },
          "metadata": {}
        }
      ]
    },
    {
      "cell_type": "code",
      "source": [
        "# Identificar los meses con las ventas más altas\n",
        "picos_ventas = ventas_mensuales.sort_values(ascending=False).head(3)\n",
        "print(\"Meses con los picos de ventas más altos:\")\n",
        "print(picos_ventas)\n",
        "\n",
        "# Filtrar datos para esos meses y analizar eventos/campañas\n",
        "picos_meses = picos_ventas.index\n",
        "\n",
        "for mes in picos_meses:\n",
        "    print(f\"Análisis del mes: {mes}\")\n",
        "    ventas_mes = df[df['mes'] == mes]\n",
        "\n",
        "    # Agrupar por producto para ver qué productos fueron más vendidos\n",
        "    productos_mes = ventas_mes.groupby('N° de factura')['Cantidad'].sum().sort_values(ascending=False)\n",
        "    print(\"Productos más vendidos en este mes:\")\n",
        "    print(productos_mes.head(10))\n",
        "\n",
        "    # Aquí podríamos agregar análisis de campañas, promociones, etc.\n",
        "    # Por ejemplo, si tenemos una columna de 'promociones' o 'eventos'\n",
        "    # print(ventas_mes['promociones'].value_counts())"
      ],
      "metadata": {
        "colab": {
          "base_uri": "https://localhost:8080/"
        },
        "id": "ZgjdvVbQDtMk",
        "outputId": "9add84e0-5ce1-43de-d2bf-d51165d45434"
      },
      "execution_count": null,
      "outputs": [
        {
          "output_type": "stream",
          "name": "stdout",
          "text": [
            "Meses con los picos de ventas más altos:\n",
            "mes\n",
            "2021-11    669915\n",
            "2021-10    569666\n",
            "2021-09    537496\n",
            "Freq: M, Name: Cantidad, dtype: int64\n",
            "Análisis del mes: 2021-11\n",
            "Productos más vendidos en este mes:\n",
            "N° de factura\n",
            "578841    12540\n",
            "575508     6712\n",
            "578140     5760\n",
            "574328     4981\n",
            "574341     4752\n",
            "575219     4675\n",
            "574092     4074\n",
            "574294     3840\n",
            "578125     3806\n",
            "575335     3684\n",
            "Name: Cantidad, dtype: int64\n",
            "Análisis del mes: 2021-10\n",
            "Productos más vendidos en este mes:\n",
            "N° de factura\n",
            "572035    13392\n",
            "569570     7020\n",
            "569650     6895\n",
            "569815     6016\n",
            "571318     5952\n",
            "571653     5918\n",
            "573153     5205\n",
            "569572     5000\n",
            "573008     4936\n",
            "571937     4462\n",
            "Name: Cantidad, dtype: int64\n",
            "Análisis del mes: 2021-09\n",
            "Productos más vendidos en este mes:\n",
            "N° de factura\n",
            "567423    12572\n",
            "566595     7824\n",
            "567280     6932\n",
            "567381     6760\n",
            "565475     5034\n",
            "566557     4951\n",
            "565150     4871\n",
            "566494     4072\n",
            "567290     3717\n",
            "566934     2893\n",
            "Name: Cantidad, dtype: int64\n"
          ]
        }
      ]
    },
    {
      "cell_type": "code",
      "source": [
        "import pandas as pd\n",
        "import numpy as np\n",
        "import matplotlib.pyplot as plt\n",
        "from sklearn.model_selection import train_test_split\n",
        "from sklearn.linear_model import LinearRegression\n",
        "from sklearn.metrics import mean_squared_error, r2_score\n",
        "\n",
        "# Cargar el archivo CSV\n",
        "df = pd.read_csv('/ventas-por-factura.csv', parse_dates=['Fecha de factura'])\n",
        "\n",
        "# Verificar las primeras filas del DataFrame\n",
        "df.head()\n",
        "\n",
        "# Verificar si la columna 'Promoción' existe y es adecuada para el análisis\n",
        "if 'Promoción' not in df.columns:\n",
        "    # Crear una columna 'Promoción' de ejemplo\n",
        "    df['Promoción'] = np.random.randint(0, 2, size=len(df))\n",
        "\n",
        "# Convertir 'Promoción' a variable numérica si no lo es\n",
        "df['Promoción'] = df['Promoción'].astype(int)\n",
        "\n",
        "# Crear variables independientes (X) y dependiente (y)\n",
        "X = df[['Promoción']]  # Puedes agregar más variables aquí si las tienes\n",
        "y = df['Cantidad']\n",
        "\n",
        "# Dividir los datos en conjuntos de entrenamiento y prueba\n",
        "X_train, X_test, y_train, y_test = train_test_split(X, y, test_size=0.3, random_state=42)\n",
        "\n",
        "# Crear el modelo de regresión lineal\n",
        "model = LinearRegression()\n",
        "model.fit(X_train, y_train)\n",
        "\n",
        "# Predecir las ventas en el conjunto de prueba\n",
        "y_pred = model.predict(X_test)\n",
        "\n",
        "# Evaluar el modelo\n",
        "mse = mean_squared_error(y_test, y_pred)\n",
        "r2 = r2_score(y_test, y_pred)\n",
        "\n",
        "print(f'Error Cuadrático Medio (MSE): {mse}')\n",
        "print(f'Coeficiente de Determinación (R^2): {r2}')\n",
        "\n",
        "# Mostrar los coeficientes del modelo\n",
        "print(f'Coeficientes del modelo: {model.coef_}')\n",
        "print(f'Intersección del modelo: {model.intercept_}')\n",
        "\n",
        "# Visualizar los resultados\n",
        "plt.scatter(X_test, y_test, color='blue', label='Datos reales')\n",
        "plt.plot(X_test, y_pred, color='red', linewidth=2, label='Regresión lineal')\n",
        "plt.title('Regresión Lineal: Impacto de Promociones en Ventas')\n",
        "plt.xlabel('Promoción')\n",
        "plt.ylabel('Cantidad Vendida')\n",
        "plt.legend()\n",
        "plt.show()\n",
        "\n"
      ],
      "metadata": {
        "colab": {
          "base_uri": "https://localhost:8080/",
          "height": 541
        },
        "id": "4H004aXqPRBK",
        "outputId": "3df6d0d7-2057-4e75-bc90-5de5631b9442"
      },
      "execution_count": null,
      "outputs": [
        {
          "output_type": "stream",
          "name": "stdout",
          "text": [
            "Error Cuadrático Medio (MSE): 1865791.438450734\n",
            "Coeficiente de Determinación (R^2): -0.0003398896512321059\n",
            "Coeficientes del modelo: [-1.24429712]\n",
            "Intersección del modelo: 207.50127791976882\n"
          ]
        },
        {
          "output_type": "display_data",
          "data": {
            "text/plain": [
              "<Figure size 640x480 with 1 Axes>"
            ],
            "image/png": "[encoded data removed]"
          },
          "metadata": {}
        }
      ]
    },
    {
      "cell_type": "markdown",
      "source": [
        "Conclusion:\n",
        "\n",
        "trabajos futuros\n",
        "\n"
      ],
      "metadata": {
        "id": "s4OWMLhCZviB"
      }
    },
    {
      "cell_type": "code",
      "source": [
        "# Visualizar los residuos\n",
        "plt.scatter(y_test, y_test - y_pred, color='blue', label='Residuos')\n",
        "plt.hlines(y=0, xmin=min(y_test), xmax=max(y_test), color='red', linewidth=2)\n",
        "plt.title('Residuos de la Regresión Lineal Múltiple')\n",
        "plt.xlabel('Valores Reales')\n",
        "plt.ylabel('Residuos')\n",
        "plt.legend()\n",
        "plt.show()\n"
      ],
      "metadata": {
        "colab": {
          "base_uri": "https://localhost:8080/",
          "height": 472
        },
        "id": "fzC5Ek39hTht",
        "outputId": "9c2c143e-da8f-4a29-9a1a-88ccdb6f8af4"
      },
      "execution_count": null,
      "outputs": [
        {
          "output_type": "display_data",
          "data": {
            "text/plain": [
              "<Figure size 640x480 with 1 Axes>"
            ],
            "image/png": "[encoded data removed]"
          },
          "metadata": {}
        }
      ]
    }
  ]
}